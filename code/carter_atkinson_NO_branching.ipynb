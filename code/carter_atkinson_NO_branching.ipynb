{
 "cells": [
  {
   "cell_type": "markdown",
   "metadata": {},
   "source": [
    "finding branching ratio between nitrate and NO2 + alkoxy under atm conditions. Numbers come from atkinson 1997"
   ]
  },
  {
   "cell_type": "code",
   "execution_count": null,
   "metadata": {},
   "outputs": [],
   "source": [
    "import math\n",
    "import numpy as np\n",
    "import pandas as pd"
   ]
  },
  {
   "cell_type": "code",
   "execution_count": null,
   "metadata": {},
   "outputs": [],
   "source": [
    "def get_nitrate_yield(carbon_number, pressure, temperature, carbon_type,\n",
    "                     other_functional_groups=None):\n",
    "    \"\"\"\n",
    "    Returns the expected fraction of ROO + NO reaction that forms RONO2\n",
    "    (instead of RO + NO2).\n",
    "    \n",
    "    carbon number is the number of carbon atoms in the compound\n",
    "    pressure is given in pascals\n",
    "    temperature in K\n",
    "    carbon type is a string of 'primary', 'secondary', and 'tertiary'\n",
    "    other_functional_groups is a list of other functional groups that are known to\n",
    "    adjust the rate. Currently accepted functional groups are:\n",
    "        hydroxy group (halves the yield)\n",
    "    \n",
    "    \n",
    "    from Carter and Atkinson 1987\n",
    "    \"\"\"\n",
    "    # derived inputs\n",
    "    concentration = pressure / 8.314 / temperature /10**6 *6.022e23 #molecule/cm3\n",
    "    # diven constants\n",
    "    y_inf = 0.826\n",
    "    alpha = 1.94e-22 #cm3/mol-1\n",
    "    beta = 0.97\n",
    "    m0 = 0.0\n",
    "    m_inf = 8.1\n",
    "    F = 0.411\n",
    "    if carbon_number < 2:\n",
    "        raise AttributeError('get_nitrate_ratio is only valid for 2 or more carbons. '\\\n",
    "                             'See Atkinson 1997 for more information')\n",
    "    # calculations\n",
    "    y0 = alpha * math.exp(beta * carbon_number)\n",
    "    numerator = y0*concentration * (temperature/300.)**(-m0)\n",
    "    denominator = y_inf * (temperature/300.)**-m_inf\n",
    "    zeta = 1 / (1+ (np.log10(numerator / denominator ))**2)\n",
    "    # final answer\n",
    "    rate_ratio = (numerator / (1+ numerator/denominator)) * F**zeta\n",
    "    rate_yield = 1 / (1 / rate_ratio + 1) # go from ka/kb to ka/(ka+kb)\n",
    "    if carbon_type == 'primary':\n",
    "        rate_yield *= 0.4\n",
    "    elif carbon_type == 'tertiary':\n",
    "        rate_yield *= 0.3\n",
    "    elif carbon_type != 'secondary':\n",
    "        raise ValueError('Only primary, secondary and tertiary accepted for carbon_type')\n",
    "    if other_functional_groups is not None:\n",
    "        for fg in other_functional_groups:\n",
    "            if (fg == 'hydroxy') or (fg == 'OH'):\n",
    "                rate_yield /= 2 #from atkinson 1997 for hydroxy groups formed from alkenes\n",
    "    return rate_yield"
   ]
  },
  {
   "cell_type": "code",
   "execution_count": null,
   "metadata": {},
   "outputs": [],
   "source": [
    "# test get nitrate ratio\n",
    "# using data of carter and atkinson 1989\n",
    "data = [(3, 'secondary', 299, 2.37e19, 0.047),\n",
    "        (4, 'secondary', 299, 2.37e19, 0.083),\n",
    "        (5, 'secondary', 284, 2.52e19, 0.158),\n",
    "        (6, 'secondary', 299, 2.37e19, 0.193),\n",
    "        (6, 'secondary', 281, 1.20e19, 0.179),\n",
    "        (3, 'primary',   299, 2.37e19, 0.019),\n",
    "        (5, 'primary',   282, 2.51e19, 0.065),\n",
    "        (6, 'tertiary',  298, 2.38e19, 0.059)]\n",
    "\n",
    "for carbon_number, carbon_type, temperature, density, expected_output in data:\n",
    "    pressure = density * 8.314 * temperature * 10**6 / 6.022e23\n",
    "    nitrate_yield = get_nitrate_yield(carbon_number, pressure, temperature, carbon_type)\n",
    "    if abs(nitrate_yield - expected_output) > 0.001:\n",
    "        print('Model result different than Carter and Atkinson for data: '+str((carbon_number, carbon_type, temperature, density, expected_output)))\n",
    "        print('Expected {}, got {}'.format(expected_output, nitrate_yield))"
   ]
  },
  {
   "cell_type": "markdown",
   "metadata": {
    "tags": []
   },
   "source": [
    "# use RMG to get plog of data"
   ]
  },
  {
   "cell_type": "code",
   "execution_count": null,
   "metadata": {},
   "outputs": [],
   "source": [
    "from rmgpy.kinetics.arrhenius import Arrhenius, PDepArrhenius\n",
    "from rmgpy.chemkin import write_kinetics_entry\n",
    "from rmgpy.reaction import Reaction\n",
    "from rmgpy.species import Species"
   ]
  },
  {
   "cell_type": "code",
   "execution_count": null,
   "metadata": {},
   "outputs": [],
   "source": [
    "number_carbons = 4\n",
    "carbon_type = 'primary'\n",
    "peroxy_name = 'PC4H9O2'\n",
    "nitrate_name = 'PC4H9ONO2'\n",
    "alkoxy_name = 'PC4H9O'\n",
    "peroxy_smiles = 'CCCCO[O]'\n",
    "nitrate_smiles = 'CCCCO[N+](=O)[O-]'\n",
    "alkoxy_smiles = 'CCCC[O]'\n",
    "use_total_rate = True\n",
    "other_functional_groups = ['OH']"
   ]
  },
  {
   "cell_type": "code",
   "execution_count": null,
   "metadata": {},
   "outputs": [],
   "source": [
    "# get the alkoxy rates\n",
    "if use_total_rate:\n",
    "    #atkinson 1997 for C2+\n",
    "    total_kinetics = Arrhenius(A=(2.7e-12*6.022e23,'cm^3/(mol*s)'),n=0,Ea=(-360*8.314,('J/mol')))\n",
    "else:\n",
    "    #anderlohr 2009\n",
    "    alkoxy_kinetics = Arrhenius(A=(4.7e12,'cm^3/(mol*s)'),n=0,Ea=(-358,('cal/mol')))"
   ]
  },
  {
   "cell_type": "code",
   "execution_count": null,
   "metadata": {},
   "outputs": [],
   "source": [
    "temperatures = np.linspace(250,1250,20)\n",
    "pressures = np.logspace(3,7,5)"
   ]
  },
  {
   "cell_type": "code",
   "execution_count": null,
   "metadata": {},
   "outputs": [],
   "source": [
    "data = np.ndarray((len(temperatures),len(pressures)))\n",
    "data_alkoxy = np.ndarray((len(temperatures),len(pressures)))\n",
    "for i1, t in enumerate(temperatures):\n",
    "    for i2, p in enumerate(pressures):\n",
    "        nitrate_yield = get_nitrate_yield(number_carbons,p,t,carbon_type,other_functional_groups=other_functional_groups)\n",
    "        if use_total_rate:\n",
    "            total_rate = total_kinetics.get_rate_coefficient(t)\n",
    "            data[i1,i2] = total_rate * nitrate_yield\n",
    "            data_alkoxy[i1,i2] = total_rate * (1-nitrate_yield)\n",
    "        else:\n",
    "            nitrate_to_NO2_ratio = 1 / (1 / nitrate_yield - 1)\n",
    "            data[i1,i2] = alkoxy_kinetics.get_rate_coefficient(t) * nitrate_to_NO2_ratio"
   ]
  },
  {
   "cell_type": "code",
   "execution_count": null,
   "metadata": {},
   "outputs": [],
   "source": [
    "nitrate_rate = PDepArrhenius().fit_to_data(temperatures,pressures, data, 'm^3/(mol*s)')\n",
    "if use_total_rate:\n",
    "    alkoxy_rate = PDepArrhenius().fit_to_data(temperatures,pressures, data_alkoxy, 'm^3/(mol*s)')"
   ]
  },
  {
   "cell_type": "code",
   "execution_count": 10,
   "metadata": {},
   "outputs": [
    {
     "name": "stdout",
     "output_type": "stream",
     "text": [
      "NO+PC4H9O2=PC4H9ONO2                                1.000e+00 0.000     0.000    \n",
      "    PLOG/ 0.009869  1.704e+32 -8.087    3.870    /\n",
      "    PLOG/ 0.098692  2.851e+37 -9.757    4.136    /\n",
      "    PLOG/ 0.986923  5.489e+38 -10.226   3.355    /\n",
      "    PLOG/ 9.869233  1.544e+38 -10.104   2.460    /\n",
      "    PLOG/ 98.692327 1.031e+37 -9.762    1.765    /\n",
      "\n"
     ]
    }
   ],
   "source": [
    "no = Species().from_smiles('[N]=O')\n",
    "peroxy = Species(label = peroxy_name).from_smiles(peroxy_smiles)\n",
    "nitrate = Species(label = nitrate_name).from_smiles(nitrate_smiles)\n",
    "\n",
    "rxn = Reaction(reactants = [no,peroxy], products = [nitrate], kinetics = nitrate_rate)\n",
    "print(write_kinetics_entry(rxn, [no,peroxy,nitrate]))\n",
    "# this is in units of kcal/mol and mol and may need to have the activation energy modified"
   ]
  },
  {
   "cell_type": "code",
   "execution_count": 11,
   "metadata": {
    "scrolled": true
   },
   "outputs": [
    {
     "name": "stdout",
     "output_type": "stream",
     "text": [
      "NO+PC4H9O2=PC4H9O+NO2                               1.000e+00 0.000     0.000    \n",
      "    PLOG/ 0.009869  1.628e+12 -0.000    -0.715   /\n",
      "    PLOG/ 0.098692  1.671e+12 -0.003    -0.709   /\n",
      "    PLOG/ 0.986923  2.037e+12 -0.029    -0.670   /\n",
      "    PLOG/ 9.869233  3.143e+12 -0.086    -0.586   /\n",
      "    PLOG/ 98.692327 5.280e+12 -0.154    -0.489   /\n",
      "\n"
     ]
    }
   ],
   "source": [
    "if use_total_rate:\n",
    "    alkoxy = Species(label = alkoxy_name).from_smiles(alkoxy_smiles)\n",
    "    no2 = Species().from_smiles('N(=O)[O]')\n",
    "    rxn2 = Reaction(reactants = [no,peroxy], products = [alkoxy, no2], kinetics = alkoxy_rate)\n",
    "    print(write_kinetics_entry(rxn2, [no,peroxy,alkoxy,no2]))\n",
    "    # this is in units of kcal/mol and mol and may need to have the activation energy modified"
   ]
  },
  {
   "cell_type": "code",
   "execution_count": null,
   "metadata": {},
   "outputs": [],
   "source": [
    "#nitrate\n",
    "print(repr(rxn.kinetics))"
   ]
  },
  {
   "cell_type": "code",
   "execution_count": null,
   "metadata": {},
   "outputs": [],
   "source": [
    "print(repr(rxn2.kinetics))"
   ]
  },
  {
   "cell_type": "code",
   "execution_count": null,
   "metadata": {},
   "outputs": [],
   "source": [
    "# ensure the rates add up\n",
    "errors = np.ndarray((len(temperatures),len(pressures)))\n",
    "for i1, temperature in enumerate(temperatures):\n",
    "    for i2, pressure in enumerate(pressures):\n",
    "        if use_total_rate:\n",
    "            r1 = rxn.get_rate_coefficient(temperature, pressure)\n",
    "            r2 = rxn2.get_rate_coefficient(temperature, pressure)\n",
    "            total = total_kinetics.get_rate_coefficient(temperature)\n",
    "            error = abs(r1 + r2 - total) / total\n",
    "            errors[i1, i2] = error"
   ]
  },
  {
   "cell_type": "markdown",
   "metadata": {
    "tags": []
   },
   "source": [
    "# compare atkinson to quantum\n",
    "Here I output atkinson rates of RO2 + NO at 300, 800, and 1500 and compare it to the RRCM results by http://dx.doi.org/10.1016/j.comptc.2017.04.015"
   ]
  },
  {
   "cell_type": "code",
   "execution_count": null,
   "metadata": {},
   "outputs": [],
   "source": [
    "import numpy as np"
   ]
  },
  {
   "cell_type": "code",
   "execution_count": null,
   "metadata": {},
   "outputs": [],
   "source": [
    "atkinson_rxn = lambda t: 2.7e-12*np.exp(360./t)\n",
    "temps = [300,800,1500]\n",
    "atkinson_rates = np.array([atkinson_rxn(t) for t in temps])"
   ]
  },
  {
   "cell_type": "code",
   "execution_count": null,
   "metadata": {},
   "outputs": [],
   "source": [
    "#these were translated by engague from figure 7 in the paper at low pressure limits.\n",
    "ng_rates = np.array([2.08e-11,2.47e-11,6.58e-11])"
   ]
  },
  {
   "cell_type": "code",
   "execution_count": null,
   "metadata": {},
   "outputs": [],
   "source": [
    "rate_diff = ng_rates/ atkinson_rates"
   ]
  },
  {
   "cell_type": "code",
   "execution_count": null,
   "metadata": {},
   "outputs": [],
   "source": [
    "rate_diff"
   ]
  },
  {
   "cell_type": "markdown",
   "metadata": {},
   "source": [
    "It seems like a different rate coefficient is predicted by the quantum and atkinson, with quantum overestimating the rate, which is typical. The rate overestimate is 2 times at atm temperature, 6 times at 800K and 20x at 1500K. "
   ]
  },
  {
   "cell_type": "markdown",
   "metadata": {
    "tags": []
   },
   "source": [
    "# Compare Atkinson with Jenkins\n",
    "\n",
    "This is to compare the results by Atkinson with those by the more recent publication of Jenkins (doi: 10.5194/acp-19-7691-2019).\n",
    "\n"
   ]
  },
  {
   "cell_type": "code",
   "execution_count": null,
   "metadata": {},
   "outputs": [],
   "source": [
    "def get_nitrate_yield_jenkins(carbon_number, pressure, temperature, carbon_type,\n",
    "                     other_functional_groups=None):\n",
    "    \"\"\"\n",
    "    Returns the expected fraction of ROO + NO reaction that forms RONO2\n",
    "    (instead of RO + NO2).\n",
    "    \n",
    "    carbon number is the number of carbon atoms in the compound\n",
    "    pressure is given in pascals\n",
    "    temperature in K\n",
    "    carbon type is a string of 'primary', 'secondary', and 'tertiary'\n",
    "    other_functional_groups is a list of other functional groups that are known to\n",
    "    adjust the rate. Currently accepted functional groups are:\n",
    "        hydroxy group (halves the yield)\n",
    "    \n",
    "    \n",
    "    from Jenkins et al. 2019 (doi: 10.5194/acp-19-7691-2019)\n",
    "    \"\"\"\n",
    "    # derived inputs\n",
    "    concentration = pressure / 8.314 / temperature /10**6 *6.022e23 #molecule/cm3\n",
    "    # diven constants\n",
    "    y_inf = .43\n",
    "    alpha = 2e-22 #cm3/mol-1\n",
    "    beta = 1\n",
    "    m0 = 0.0\n",
    "    m_inf = 8\n",
    "    F = 0.41\n",
    "    if carbon_number < 2:\n",
    "        raise AttributeError('get_nitrate_ratio is only valid for 2 or more carbons. '\\\n",
    "                             'See Atkinson 1997 for more information')\n",
    "    # calculations\n",
    "    y0 = alpha * math.exp(beta * carbon_number)\n",
    "    numerator = y0*concentration * (temperature/300.)**(-m0)\n",
    "    denominator = y_inf * (temperature/300.)**-m_inf\n",
    "    zeta = 1 / (1+ (np.log10(numerator / denominator ))**2)\n",
    "    # final answer\n",
    "    rate_ratio = (numerator / (1+ numerator/denominator)) * F**zeta\n",
    "    rate_yield = 1 / (1 / rate_ratio + 1) # go from ka/kb to ka/(ka+kb)\n",
    "    if carbon_type == 'primary':\n",
    "        rate_yield *= 0.65\n",
    "    elif carbon_type == 'tertiary':\n",
    "        rate_yield *= 1\n",
    "    elif carbon_type != 'secondary':\n",
    "        raise ValueError('Only primary, secondary and tertiary accepted for carbon_type')\n",
    "    if other_functional_groups is not None:\n",
    "        for fg in other_functional_groups:\n",
    "            if (fg == 'hydroxy') or (fg == 'OH'):\n",
    "                rate_yield *= 0.65 #for the equivalent group of atkinson 1997 for hydroxy groups formed from alkenes\n",
    "    return rate_yield"
   ]
  },
  {
   "cell_type": "code",
   "execution_count": null,
   "metadata": {},
   "outputs": [],
   "source": [
    "data_jenkins = np.ndarray((len(temperatures),len(pressures)))\n",
    "data_alkoxy_jenkins = np.ndarray((len(temperatures),len(pressures)))\n",
    "for i1, t in enumerate(temperatures):\n",
    "    for i2, p in enumerate(pressures):\n",
    "        nitrate_yield = get_nitrate_yield_jenkins(number_carbons,p,t,carbon_type,other_functional_groups=other_functional_groups)\n",
    "        if use_total_rate:\n",
    "            total_rate = total_kinetics.get_rate_coefficient(t)\n",
    "            data_jenkins[i1,i2] = total_rate * nitrate_yield\n",
    "            data_alkoxy_jenkins[i1,i2] = total_rate * (1-nitrate_yield)\n",
    "        else:\n",
    "            nitrate_to_NO2_ratio = 1 / (1 / nitrate_yield - 1)\n",
    "            data_jenkins[i1,i2] = alkoxy_kinetics.get_rate_coefficient(t) * nitrate_to_NO2_ratio"
   ]
  },
  {
   "cell_type": "markdown",
   "metadata": {
    "tags": []
   },
   "source": [
    "# use RMG to get plog of data"
   ]
  },
  {
   "cell_type": "code",
   "execution_count": null,
   "metadata": {},
   "outputs": [],
   "source": [
    "temperatures = np.linspace(250,600,20)\n",
    "pressures = np.logspace(3,7,5)"
   ]
  },
  {
   "cell_type": "code",
   "execution_count": null,
   "metadata": {},
   "outputs": [],
   "source": [
    "from rmgpy.kinetics.arrhenius import Arrhenius, PDepArrhenius\n",
    "from rmgpy.chemkin import write_kinetics_entry\n",
    "from rmgpy.reaction import Reaction\n",
    "from rmgpy.species import Species"
   ]
  },
  {
   "cell_type": "markdown",
   "metadata": {},
   "source": [
    "## n-propane peroxy radical"
   ]
  },
  {
   "cell_type": "code",
   "execution_count": null,
   "metadata": {},
   "outputs": [],
   "source": [
    "number_carbons = 3\n",
    "carbon_type = 'primary'\n",
    "peroxy_name = 'npropyloo'\n",
    "nitrate_name = 'npropylONO2'\n",
    "alkoxy_name = 'npropyloxy'\n",
    "peroxy_smiles = 'CCCO[O]'\n",
    "nitrate_smiles = 'CCCO[N+](=O)[O-]'\n",
    "alkoxy_smiles = 'CCC[O]'\n",
    "use_total_rate = False\n",
    "other_functional_groups = []"
   ]
  },
  {
   "cell_type": "code",
   "execution_count": null,
   "metadata": {},
   "outputs": [],
   "source": [
    "# get the alkoxy rates\n",
    "if use_total_rate:\n",
    "    #atkinson 1997 for C2+\n",
    "    total_kinetics = Arrhenius(A=(2.7e-12*6.022e23,'cm^3/(mol*s)'),n=0,Ea=(-360*8.314,('J/mol')))\n",
    "else:\n",
    "    #anderlohr 2009\n",
    "    alkoxy_kinetics = Arrhenius(A=(4.7e12,'cm^3/(mol*s)'),n=0,Ea=(-358,('cal/mol')))"
   ]
  },
  {
   "cell_type": "code",
   "execution_count": null,
   "metadata": {},
   "outputs": [],
   "source": [
    "data = np.ndarray((len(temperatures),len(pressures)))\n",
    "data_alkoxy = np.ndarray((len(temperatures),len(pressures)))\n",
    "for i1, t in enumerate(temperatures):\n",
    "    for i2, p in enumerate(pressures):\n",
    "        nitrate_yield = get_nitrate_yield_jenkins(number_carbons,p,t,carbon_type,other_functional_groups=other_functional_groups)\n",
    "        if use_total_rate:\n",
    "            total_rate = total_kinetics.get_rate_coefficient(t)\n",
    "            data[i1,i2] = total_rate * nitrate_yield\n",
    "            data_alkoxy[i1,i2] = total_rate * (1-nitrate_yield)\n",
    "        else:\n",
    "            nitrate_to_NO2_ratio = 1 / (1 / nitrate_yield - 1)\n",
    "            data[i1,i2] = alkoxy_kinetics.get_rate_coefficient(t) * nitrate_to_NO2_ratio"
   ]
  },
  {
   "cell_type": "code",
   "execution_count": null,
   "metadata": {},
   "outputs": [],
   "source": [
    "nitrate_rate = PDepArrhenius().fit_to_data(temperatures,pressures, data, 'm^3/(mol*s)')\n",
    "if use_total_rate:\n",
    "    alkoxy_rate = PDepArrhenius().fit_to_data(temperatures,pressures, data_alkoxy, 'm^3/(mol*s)')"
   ]
  },
  {
   "cell_type": "code",
   "execution_count": 129,
   "metadata": {},
   "outputs": [
    {
     "name": "stdout",
     "output_type": "stream",
     "text": [
      "NO+npropyloo=npropylONO2                            1.000e+00 0.000     0.000    \n",
      "    PLOG/ 0.009869  4.502e+23 -5.034    2.038    /\n",
      "    PLOG/ 0.098692  1.440e+34 -8.458    3.538    /\n",
      "    PLOG/ 0.986923  3.522e+33 -8.262    2.367    /\n",
      "    PLOG/ 9.869233  1.109e+44 -11.810   4.012    /\n",
      "    PLOG/ 98.692327 1.066e+40 -10.589   2.248    /\n",
      "\n"
     ]
    }
   ],
   "source": [
    "no = Species().from_smiles('[N]=O')\n",
    "peroxy = Species(label = peroxy_name).from_smiles(peroxy_smiles)\n",
    "nitrate = Species(label = nitrate_name).from_smiles(nitrate_smiles)\n",
    "\n",
    "rxn = Reaction(reactants = [no,peroxy], products = [nitrate], kinetics = nitrate_rate)\n",
    "print(write_kinetics_entry(rxn, [no,peroxy,nitrate]))\n",
    "# this is in units of kcal/mol and mol and may need to have the activation energy modified"
   ]
  },
  {
   "cell_type": "code",
   "execution_count": 130,
   "metadata": {
    "scrolled": true
   },
   "outputs": [],
   "source": [
    "if use_total_rate:\n",
    "    alkoxy = Species(label = alkoxy_name).from_smiles(alkoxy_smiles)\n",
    "    no2 = Species().from_smiles('N(=O)[O]')\n",
    "    rxn2 = Reaction(reactants = [no,peroxy], products = [alkoxy, no2], kinetics = alkoxy_rate)\n",
    "    print(write_kinetics_entry(rxn2, [no,peroxy,alkoxy,no2]))\n",
    "    # this is in units of kcal/mol and mol and may need to have the activation energy modified"
   ]
  },
  {
   "cell_type": "markdown",
   "metadata": {},
   "source": [
    "## i-propane peroxy radical"
   ]
  },
  {
   "cell_type": "code",
   "execution_count": null,
   "metadata": {},
   "outputs": [],
   "source": [
    "number_carbons = 3\n",
    "carbon_type = 'secondary'\n",
    "peroxy_name = 'ipropyloo'\n",
    "nitrate_name = 'ipropylONO2'\n",
    "alkoxy_name = 'ipropyloxy'\n",
    "peroxy_smiles = 'CC(C)O[O]'\n",
    "nitrate_smiles = 'CC(C)O[N+](=O)[O-]'\n",
    "alkoxy_smiles = 'CC(C)[O]'\n",
    "use_total_rate = False\n",
    "other_functional_groups = []"
   ]
  },
  {
   "cell_type": "code",
   "execution_count": null,
   "metadata": {},
   "outputs": [],
   "source": [
    "# get the alkoxy rates\n",
    "if use_total_rate:\n",
    "    #atkinson 1997 for C2+\n",
    "    total_kinetics = Arrhenius(A=(2.7e-12*6.022e23,'cm^3/(mol*s)'),n=0,Ea=(-360*8.314,('J/mol')))\n",
    "else:\n",
    "    #anderlohr 2009\n",
    "    alkoxy_kinetics = Arrhenius(A=(4.7e12,'cm^3/(mol*s)'),n=0,Ea=(-358,('cal/mol')))"
   ]
  },
  {
   "cell_type": "code",
   "execution_count": null,
   "metadata": {},
   "outputs": [],
   "source": [
    "data = np.ndarray((len(temperatures),len(pressures)))\n",
    "data_alkoxy = np.ndarray((len(temperatures),len(pressures)))\n",
    "for i1, t in enumerate(temperatures):\n",
    "    for i2, p in enumerate(pressures):\n",
    "        nitrate_yield = get_nitrate_yield_jenkins(number_carbons,p,t,carbon_type,other_functional_groups=other_functional_groups)\n",
    "        if use_total_rate:\n",
    "            total_rate = total_kinetics.get_rate_coefficient(t)\n",
    "            data[i1,i2] = total_rate * nitrate_yield\n",
    "            data_alkoxy[i1,i2] = total_rate * (1-nitrate_yield)\n",
    "        else:\n",
    "            nitrate_to_NO2_ratio = 1 / (1 / nitrate_yield - 1)\n",
    "            data[i1,i2] = alkoxy_kinetics.get_rate_coefficient(t) * nitrate_to_NO2_ratio"
   ]
  },
  {
   "cell_type": "code",
   "execution_count": null,
   "metadata": {},
   "outputs": [],
   "source": [
    "nitrate_rate = PDepArrhenius().fit_to_data(temperatures,pressures, data, 'm^3/(mol*s)')\n",
    "if use_total_rate:\n",
    "    alkoxy_rate = PDepArrhenius().fit_to_data(temperatures,pressures, data_alkoxy, 'm^3/(mol*s)')"
   ]
  },
  {
   "cell_type": "code",
   "execution_count": 135,
   "metadata": {},
   "outputs": [
    {
     "name": "stdout",
     "output_type": "stream",
     "text": [
      "NO+ipropyloo=ipropylONO2                            1.000e+00 0.000     0.000    \n",
      "    PLOG/ 0.009869  6.938e+23 -5.034    2.038    /\n",
      "    PLOG/ 0.098692  2.196e+34 -8.457    3.535    /\n",
      "    PLOG/ 0.986923  3.395e+33 -8.198    2.297    /\n",
      "    PLOG/ 9.869233  2.047e+43 -11.516   3.716    /\n",
      "    PLOG/ 98.692327 1.049e+37 -9.563    1.281    /\n",
      "\n"
     ]
    }
   ],
   "source": [
    "no = Species().from_smiles('[N]=O')\n",
    "peroxy = Species(label = peroxy_name).from_smiles(peroxy_smiles)\n",
    "nitrate = Species(label = nitrate_name).from_smiles(nitrate_smiles)\n",
    "\n",
    "rxn = Reaction(reactants = [no,peroxy], products = [nitrate], kinetics = nitrate_rate)\n",
    "print(write_kinetics_entry(rxn, [no,peroxy,nitrate]))\n",
    "# this is in units of kcal/mol and mol and may need to have the activation energy modified"
   ]
  },
  {
   "cell_type": "code",
   "execution_count": null,
   "metadata": {
    "scrolled": true
   },
   "outputs": [],
   "source": [
    "if use_total_rate:\n",
    "    alkoxy = Species(label = alkoxy_name).from_smiles(alkoxy_smiles)\n",
    "    no2 = Species().from_smiles('N(=O)[O]')\n",
    "    rxn2 = Reaction(reactants = [no,peroxy], products = [alkoxy, no2], kinetics = alkoxy_rate)\n",
    "    print(write_kinetics_entry(rxn2, [no,peroxy,alkoxy,no2]))\n",
    "    # this is in units of kcal/mol and mol and may need to have the activation energy modified"
   ]
  },
  {
   "cell_type": "markdown",
   "metadata": {},
   "source": [
    "## butane peroxy radical"
   ]
  },
  {
   "cell_type": "code",
   "execution_count": null,
   "metadata": {},
   "outputs": [],
   "source": [
    "number_carbons = 4\n",
    "carbon_type = 'primary'\n",
    "peroxy_name = 'PC4H9O2'\n",
    "nitrate_name = 'PC4H9ONO2'\n",
    "alkoxy_name = 'PC4H9O'\n",
    "peroxy_smiles = 'CCCCO[O]'\n",
    "nitrate_smiles = 'CCCCO[N+](=O)[O-]'\n",
    "alkoxy_smiles = 'CCCC[O]'\n",
    "use_total_rate = True\n",
    "other_functional_groups = []"
   ]
  },
  {
   "cell_type": "code",
   "execution_count": null,
   "metadata": {},
   "outputs": [],
   "source": [
    "# get the alkoxy rates\n",
    "if use_total_rate:\n",
    "    #atkinson 1997 for C2+\n",
    "    total_kinetics = Arrhenius(A=(2.7e-12*6.022e23,'cm^3/(mol*s)'),n=0,Ea=(-360*8.314,('J/mol')))\n",
    "else:\n",
    "    #anderlohr 2009\n",
    "    alkoxy_kinetics = Arrhenius(A=(4.7e12,'cm^3/(mol*s)'),n=0,Ea=(-358,('cal/mol')))"
   ]
  },
  {
   "cell_type": "code",
   "execution_count": null,
   "metadata": {},
   "outputs": [],
   "source": [
    "data = np.ndarray((len(temperatures),len(pressures)))\n",
    "data_alkoxy = np.ndarray((len(temperatures),len(pressures)))\n",
    "for i1, t in enumerate(temperatures):\n",
    "    for i2, p in enumerate(pressures):\n",
    "        nitrate_yield = get_nitrate_yield_jenkins(number_carbons,p,t,carbon_type,other_functional_groups=other_functional_groups)\n",
    "        if use_total_rate:\n",
    "            total_rate = total_kinetics.get_rate_coefficient(t)\n",
    "            data[i1,i2] = total_rate * nitrate_yield\n",
    "            data_alkoxy[i1,i2] = total_rate * (1-nitrate_yield)\n",
    "        else:\n",
    "            nitrate_to_NO2_ratio = 1 / (1 / nitrate_yield - 1)\n",
    "            data[i1,i2] = alkoxy_kinetics.get_rate_coefficient(t) * nitrate_to_NO2_ratio"
   ]
  },
  {
   "cell_type": "code",
   "execution_count": null,
   "metadata": {},
   "outputs": [],
   "source": [
    "nitrate_rate = PDepArrhenius().fit_to_data(temperatures,pressures, data, 'm^3/(mol*s)')\n",
    "if use_total_rate:\n",
    "    alkoxy_rate = PDepArrhenius().fit_to_data(temperatures,pressures, data_alkoxy, 'm^3/(mol*s)')"
   ]
  },
  {
   "cell_type": "code",
   "execution_count": 111,
   "metadata": {},
   "outputs": [
    {
     "name": "stdout",
     "output_type": "stream",
     "text": [
      "NO+PC4H9O2=PC4H9ONO2                                1.000e+00 0.000     0.000    \n",
      "    PLOG/ 0.009869  2.369e+30 -7.373    3.009    /\n",
      "    PLOG/ 0.098692  8.428e+31 -7.866    2.299    /\n",
      "    PLOG/ 0.986923  5.591e+38 -10.148   3.057    /\n",
      "    PLOG/ 9.869233  2.035e+45 -12.405   3.852    /\n",
      "    PLOG/ 98.692327 1.110e+43 -11.709   2.905    /\n",
      "\n"
     ]
    }
   ],
   "source": [
    "no = Species().from_smiles('[N]=O')\n",
    "peroxy = Species(label = peroxy_name).from_smiles(peroxy_smiles)\n",
    "nitrate = Species(label = nitrate_name).from_smiles(nitrate_smiles)\n",
    "\n",
    "rxn = Reaction(reactants = [no,peroxy], products = [nitrate], kinetics = nitrate_rate)\n",
    "print(write_kinetics_entry(rxn, [no,peroxy,nitrate]))\n",
    "# this is in units of kcal/mol and mol and may need to have the activation energy modified"
   ]
  },
  {
   "cell_type": "code",
   "execution_count": 112,
   "metadata": {
    "scrolled": true
   },
   "outputs": [
    {
     "name": "stdout",
     "output_type": "stream",
     "text": [
      "NO+PC4H9O2=PC4H9O+NO2                               1.000e+00 0.000     0.000    \n",
      "    PLOG/ 0.009869  1.613e+12 0.001     -0.715   /\n",
      "    PLOG/ 0.098692  1.912e+12 -0.021    -0.685   /\n",
      "    PLOG/ 0.986923  9.348e+12 -0.241    -0.465   /\n",
      "    PLOG/ 9.869233  3.899e+14 -0.758    0.047    /\n",
      "    PLOG/ 98.692327 1.316e+17 -1.573    0.792    /\n",
      "\n"
     ]
    }
   ],
   "source": [
    "if use_total_rate:\n",
    "    alkoxy = Species(label = alkoxy_name).from_smiles(alkoxy_smiles)\n",
    "    no2 = Species().from_smiles('N(=O)[O]')\n",
    "    rxn2 = Reaction(reactants = [no,peroxy], products = [alkoxy, no2], kinetics = alkoxy_rate)\n",
    "    print(write_kinetics_entry(rxn2, [no,peroxy,alkoxy,no2]))\n",
    "    # this is in units of kcal/mol and mol and may need to have the activation energy modified"
   ]
  },
  {
   "cell_type": "markdown",
   "metadata": {},
   "source": [
    "## gamma-isobutanol peroxy radical"
   ]
  },
  {
   "cell_type": "code",
   "execution_count": null,
   "metadata": {},
   "outputs": [],
   "source": [
    "number_carbons = 5\n",
    "carbon_type = 'primary'\n",
    "peroxy_name = 'gRO2'\n",
    "nitrate_name = 'NO2OCC(CO)C'\n",
    "alkoxy_name = '[O]CC(CO)C'\n",
    "peroxy_smiles = 'CC(CO)CO[O]'\n",
    "nitrate_smiles = 'CC(CO)CO[N+](=O)[O-]'\n",
    "alkoxy_smiles = 'CC(C)C[O]'\n",
    "use_total_rate = True\n",
    "other_functional_groups = ['OH']"
   ]
  },
  {
   "cell_type": "code",
   "execution_count": null,
   "metadata": {},
   "outputs": [],
   "source": [
    "# get the alkoxy rates\n",
    "if use_total_rate:\n",
    "    #atkinson 1997 for C2+\n",
    "    total_kinetics = Arrhenius(A=(2.7e-12*6.022e23,'cm^3/(mol*s)'),n=0,Ea=(-360*8.314,('J/mol')))\n",
    "else:\n",
    "    #anderlohr 2009\n",
    "    alkoxy_kinetics = Arrhenius(A=(4.7e12,'cm^3/(mol*s)'),n=0,Ea=(-358,('cal/mol')))"
   ]
  },
  {
   "cell_type": "code",
   "execution_count": null,
   "metadata": {},
   "outputs": [],
   "source": [
    "data = np.ndarray((len(temperatures),len(pressures)))\n",
    "data_alkoxy = np.ndarray((len(temperatures),len(pressures)))\n",
    "for i1, t in enumerate(temperatures):\n",
    "    for i2, p in enumerate(pressures):\n",
    "        nitrate_yield = get_nitrate_yield_jenkins(number_carbons,p,t,carbon_type,other_functional_groups=other_functional_groups)\n",
    "        if use_total_rate:\n",
    "            total_rate = total_kinetics.get_rate_coefficient(t)\n",
    "            data[i1,i2] = total_rate * nitrate_yield\n",
    "            data_alkoxy[i1,i2] = total_rate * (1-nitrate_yield)\n",
    "        else:\n",
    "            nitrate_to_NO2_ratio = 1 / (1 / nitrate_yield - 1)\n",
    "            data[i1,i2] = alkoxy_kinetics.get_rate_coefficient(t) * nitrate_to_NO2_ratio"
   ]
  },
  {
   "cell_type": "code",
   "execution_count": null,
   "metadata": {},
   "outputs": [],
   "source": [
    "nitrate_rate = PDepArrhenius().fit_to_data(temperatures,pressures, data, 'm^3/(mol*s)')\n",
    "if use_total_rate:\n",
    "    alkoxy_rate = PDepArrhenius().fit_to_data(temperatures,pressures, data_alkoxy, 'm^3/(mol*s)')"
   ]
  },
  {
   "cell_type": "code",
   "execution_count": 117,
   "metadata": {},
   "outputs": [
    {
     "name": "stdout",
     "output_type": "stream",
     "text": [
      "NO+gRO2=NO2OCC(CO)C                                 1.000e+00 0.000     0.000    \n",
      "    PLOG/ 0.009869  4.428e+33 -8.505    3.364    /\n",
      "    PLOG/ 0.098692  1.836e+32 -8.043    2.009    /\n",
      "    PLOG/ 0.986923  7.693e+43 -11.940   4.002    /\n",
      "    PLOG/ 9.869233  5.451e+43 -11.980   3.270    /\n",
      "    PLOG/ 98.692327 5.494e+42 -11.675   2.827    /\n",
      "\n"
     ]
    }
   ],
   "source": [
    "no = Species().from_smiles('[N]=O')\n",
    "peroxy = Species(label = peroxy_name).from_smiles(peroxy_smiles)\n",
    "nitrate = Species(label = nitrate_name).from_smiles(nitrate_smiles)\n",
    "\n",
    "rxn = Reaction(reactants = [no,peroxy], products = [nitrate], kinetics = nitrate_rate)\n",
    "print(write_kinetics_entry(rxn, [no,peroxy,nitrate]))\n",
    "# this is in units of kcal/mol and mol and may need to have the activation energy modified"
   ]
  },
  {
   "cell_type": "code",
   "execution_count": 118,
   "metadata": {
    "scrolled": true
   },
   "outputs": [
    {
     "name": "stdout",
     "output_type": "stream",
     "text": [
      "NO+gRO2=C4H9O+NO2                                   1.000e+00 0.000     0.000    \n",
      "    PLOG/ 0.009869  1.628e+12 0.000     -0.713   /\n",
      "    PLOG/ 0.098692  2.396e+12 -0.053    -0.656   /\n",
      "    PLOG/ 0.986923  9.699e+12 -0.246    -0.460   /\n",
      "    PLOG/ 9.869233  2.642e+14 -0.706    -0.022   /\n",
      "    PLOG/ 98.692327 2.303e+15 -1.009    0.256    /\n",
      "\n"
     ]
    }
   ],
   "source": [
    "if use_total_rate:\n",
    "    alkoxy = Species(label = alkoxy_name).from_smiles(alkoxy_smiles)\n",
    "    no2 = Species().from_smiles('N(=O)[O]')\n",
    "    rxn2 = Reaction(reactants = [no,peroxy], products = [alkoxy, no2], kinetics = alkoxy_rate)\n",
    "    print(write_kinetics_entry(rxn2, [no,peroxy,alkoxy,no2]))\n",
    "    # this is in units of kcal/mol and mol and may need to have the activation energy modified"
   ]
  }
 ],
 "metadata": {
  "kernelspec": {
   "display_name": "Python 3",
   "language": "python",
   "name": "python3"
  },
  "language_info": {
   "codemirror_mode": {
    "name": "ipython",
    "version": 3
   },
   "file_extension": ".py",
   "mimetype": "text/x-python",
   "name": "python",
   "nbconvert_exporter": "python",
   "pygments_lexer": "ipython3",
   "version": "3.8.3"
  },
  "toc": {
   "nav_menu": {
    "height": "20px",
    "width": "254px"
   },
   "navigate_menu": true,
   "number_sections": true,
   "sideBar": true,
   "threshold": 4,
   "toc_cell": true,
   "toc_section_display": "block",
   "toc_window_display": true
  }
 },
 "nbformat": 4,
 "nbformat_minor": 4
}
