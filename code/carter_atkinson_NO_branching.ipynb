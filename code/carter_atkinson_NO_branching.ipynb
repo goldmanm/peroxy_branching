{
 "cells": [
  {
   "cell_type": "markdown",
   "metadata": {
    "toc": "true"
   },
   "source": [
    "# Table of Contents\n",
    " <p><div class=\"lev1 toc-item\"><a href=\"#use-RMG-to-get-plog-of-data\" data-toc-modified-id=\"use-RMG-to-get-plog-of-data-1\"><span class=\"toc-item-num\">1&nbsp;&nbsp;</span>use RMG to get plog of data</a></div><div class=\"lev1 toc-item\"><a href=\"#compare-atkinson-to-quantum\" data-toc-modified-id=\"compare-atkinson-to-quantum-2\"><span class=\"toc-item-num\">2&nbsp;&nbsp;</span>compare atkinson to quantum</a></div>"
   ]
  },
  {
   "cell_type": "markdown",
   "metadata": {},
   "source": [
    "finding branching ratio between nitrate and NO2 + alkoxy under atm conditions. Numbers come from atkinson 1997"
   ]
  },
  {
   "cell_type": "code",
   "execution_count": 1,
   "metadata": {},
   "outputs": [],
   "source": [
    "import math\n",
    "import numpy as np\n",
    "import pandas as pd"
   ]
  },
  {
   "cell_type": "code",
   "execution_count": 2,
   "metadata": {},
   "outputs": [],
   "source": [
    "def get_nitrate_yield(carbon_number, pressure, temperature, carbon_type,\n",
    "                     other_functional_groups=None):\n",
    "    \"\"\"\n",
    "    Returns the expected fraction of ROO + NO reaction that forms RONO2\n",
    "    (instead of RO + NO2).\n",
    "    \n",
    "    carbon number is the number of carbon atoms in the compound\n",
    "    pressure is given in pascals\n",
    "    temperature in K\n",
    "    carbon type is a string of 'primary', 'secondary', and 'tertiary'\n",
    "    other_functional_groups is a list of other functional groups that are known to\n",
    "    adjust the rate. Currently accepted functional groups are:\n",
    "        hydroxy group (halves the yield)\n",
    "    \n",
    "    \n",
    "    from Carter and Atkinson 1987\n",
    "    \"\"\"\n",
    "    # derived inputs\n",
    "    concentration = pressure / 8.314 / temperature /10**6 *6.022e23 #molecule/cm3\n",
    "    # diven constants\n",
    "    y_inf = 0.826\n",
    "    alpha = 1.94e-22 #cm3/mol-1\n",
    "    beta = 0.97\n",
    "    m0 = 0.0\n",
    "    m_inf = 8.1\n",
    "    F = 0.411\n",
    "    if carbon_number < 2:\n",
    "        raise AttributeError('get_nitrate_ratio is only valid for 2 or more carbons. '\\\n",
    "                             'See Atkinson 1997 for more information')\n",
    "    # calculations\n",
    "    y0 = alpha * math.exp(beta * carbon_number)\n",
    "    numerator = y0*concentration * (temperature/300.)**(-m0)\n",
    "    denominator = y_inf * (temperature/300.)**-m_inf\n",
    "    zeta = 1 / (1+ (np.log10(numerator / denominator ))**2)\n",
    "    # final answer\n",
    "    rate_ratio = (numerator / (1+ numerator/denominator)) * F**zeta\n",
    "    rate_yield = 1 / (1 / rate_ratio + 1) # go from ka/kb to ka/(ka+kb)\n",
    "    if carbon_type == 'primary':\n",
    "        rate_yield *= 0.4\n",
    "    elif carbon_type == 'tertiary':\n",
    "        rate_yield *= 0.3\n",
    "    elif carbon_type != 'secondary':\n",
    "        raise ValueError('Only primary, secondary and tertiary accepted for carbon_type')\n",
    "    if other_functional_groups is not None:\n",
    "        for fg in other_functional_groups:\n",
    "            if (fg == 'hydroxy') or (fg == 'OH'):\n",
    "                rate_yield /= 2 #from atkinson 1997 for hydroxy groups formed from alkenes\n",
    "    return rate_yield"
   ]
  },
  {
   "cell_type": "code",
   "execution_count": 3,
   "metadata": {},
   "outputs": [],
   "source": [
    "# test get nitrate ratio\n",
    "# using data of carter and atkinson 1989\n",
    "data = [(3, 'secondary', 299, 2.37e19, 0.047),\n",
    "        (4, 'secondary', 299, 2.37e19, 0.083),\n",
    "        (5, 'secondary', 284, 2.52e19, 0.158),\n",
    "        (6, 'secondary', 299, 2.37e19, 0.193),\n",
    "        (6, 'secondary', 281, 1.20e19, 0.179),\n",
    "        (3, 'primary',   299, 2.37e19, 0.019),\n",
    "        (5, 'primary',   282, 2.51e19, 0.065),\n",
    "        (6, 'tertiary',  298, 2.38e19, 0.059)]\n",
    "\n",
    "for carbon_number, carbon_type, temperature, density, expected_output in data:\n",
    "    pressure = density * 8.314 * temperature * 10**6 / 6.022e23\n",
    "    nitrate_yield = get_nitrate_yield(carbon_number, pressure, temperature, carbon_type)\n",
    "    if abs(nitrate_yield - expected_output) > 0.001:\n",
    "        print('Model result different than Carter and Atkinson for data: '+str((carbon_number, carbon_type, temperature, density, expected_output)))\n",
    "        print('Expected {}, got {}'.format(expected_output, nitrate_yield))"
   ]
  },
  {
   "cell_type": "markdown",
   "metadata": {},
   "source": [
    "# use RMG to get plog of data"
   ]
  },
  {
   "cell_type": "code",
   "execution_count": 4,
   "metadata": {},
   "outputs": [],
   "source": [
    "from rmgpy.kinetics.arrhenius import Arrhenius, PDepArrhenius\n",
    "from rmgpy.chemkin import write_kinetics_entry\n",
    "from rmgpy.reaction import Reaction\n",
    "from rmgpy.species import Species"
   ]
  },
  {
   "cell_type": "code",
   "execution_count": 5,
   "metadata": {},
   "outputs": [],
   "source": [
    "number_carbons = 4\n",
    "carbon_type = 'primary'\n",
    "peroxy_name = 'PC4H9O2'\n",
    "nitrate_name = 'PC4H9ONO2'\n",
    "alkoxy_name = 'PC4H9O'\n",
    "peroxy_smiles = 'CCCCO[O]'\n",
    "nitrate_smiles = 'CCCCO[N+](=O)[O-]'\n",
    "alkoxy_smiles = 'CCCC[O]'\n",
    "use_total_rate = True\n",
    "other_functional_groups = ['OH']"
   ]
  },
  {
   "cell_type": "code",
   "execution_count": 6,
   "metadata": {},
   "outputs": [],
   "source": [
    "# get the alkoxy rates\n",
    "\n",
    "# original rate (possibly erroniously from atkinson 1997 for h-abstraction of ho2 by peroxy radicals)\n",
    "#alkoxy_kinetics = Arrhenius(A=(1.1144e11,'cm^3/(mol*s)'),n=0,Ea=(-2583,('cal/mol')))\n",
    "\n",
    "if use_total_rate:\n",
    "    #atkinson 1997 for C2+\n",
    "    total_kinetics = Arrhenius(A=(2.7e-12*6.022e23,'cm^3/(mol*s)'),n=0,Ea=(-360*8.314,('J/mol')))\n",
    "else:\n",
    "    #anderlohr 2009\n",
    "    alkoxy_kinetics = Arrhenius(A=(4.7e12,'cm^3/(mol*s)'),n=0,Ea=(-358,('cal/mol')))\n"
   ]
  },
  {
   "cell_type": "code",
   "execution_count": 7,
   "metadata": {},
   "outputs": [],
   "source": [
    "temperatures = np.linspace(250,1250,20)\n",
    "pressures = np.logspace(3,7,5)"
   ]
  },
  {
   "cell_type": "code",
   "execution_count": 8,
   "metadata": {},
   "outputs": [],
   "source": [
    "data = np.ndarray((len(temperatures),len(pressures)))\n",
    "data_alkoxy = np.ndarray((len(temperatures),len(pressures)))\n",
    "for i1, t in enumerate(temperatures):\n",
    "    for i2, p in enumerate(pressures):\n",
    "        nitrate_yield = get_nitrate_yield(number_carbons,p,t,carbon_type,other_functional_groups=other_functional_groups)\n",
    "        if use_total_rate:\n",
    "            total_rate = total_kinetics.get_rate_coefficient(t)\n",
    "            data[i1,i2] = total_rate * nitrate_yield\n",
    "            data_alkoxy[i1,i2] = total_rate * (1-nitrate_yield)\n",
    "        else:\n",
    "            nitrate_to_NO2_ratio = 1 / (1 / nitrate_yield - 1)\n",
    "            data[i1,i2] = alkoxy_kinetics.get_rate_coefficient(t) * nitrate_to_NO2_ratio"
   ]
  },
  {
   "cell_type": "code",
   "execution_count": 9,
   "metadata": {},
   "outputs": [],
   "source": [
    "nitrate_rate = PDepArrhenius().fit_to_data(temperatures,pressures, data, 'm^3/(mol*s)')\n",
    "if use_total_rate:\n",
    "    alkoxy_rate = PDepArrhenius().fit_to_data(temperatures,pressures, data_alkoxy, 'm^3/(mol*s)')"
   ]
  },
  {
   "cell_type": "code",
   "execution_count": 10,
   "metadata": {},
   "outputs": [
    {
     "name": "stdout",
     "output_type": "stream",
     "text": [
      "NO+PC4H9O2=PC4H9ONO2                                1.000e+00 0.000     0.000    \n",
      "    PLOG/ 0.009869  1.704e+32 -8.087    3.870    /\n",
      "    PLOG/ 0.098692  2.851e+37 -9.757    4.136    /\n",
      "    PLOG/ 0.986923  5.489e+38 -10.226   3.355    /\n",
      "    PLOG/ 9.869233  1.544e+38 -10.104   2.460    /\n",
      "    PLOG/ 98.692327 1.031e+37 -9.762    1.765    /\n",
      "\n"
     ]
    }
   ],
   "source": [
    "no = Species().from_smiles('[N]=O')\n",
    "peroxy = Species(label = peroxy_name).from_smiles(peroxy_smiles)\n",
    "nitrate = Species(label = nitrate_name).from_smiles(nitrate_smiles)\n",
    "\n",
    "rxn = Reaction(reactants = [no,peroxy], products = [nitrate], kinetics = nitrate_rate)\n",
    "print(write_kinetics_entry(rxn, [no,peroxy,nitrate]))\n",
    "# this is in units of kcal/mol and mol and may need to have the activation energy modified"
   ]
  },
  {
   "cell_type": "code",
   "execution_count": 11,
   "metadata": {
    "scrolled": true
   },
   "outputs": [
    {
     "name": "stdout",
     "output_type": "stream",
     "text": [
      "NO+PC4H9O2=PC4H9O+NO2                               1.000e+00 0.000     0.000    \n",
      "    PLOG/ 0.009869  1.628e+12 -0.000    -0.715   /\n",
      "    PLOG/ 0.098692  1.671e+12 -0.003    -0.709   /\n",
      "    PLOG/ 0.986923  2.037e+12 -0.029    -0.670   /\n",
      "    PLOG/ 9.869233  3.143e+12 -0.086    -0.586   /\n",
      "    PLOG/ 98.692327 5.280e+12 -0.154    -0.489   /\n",
      "\n"
     ]
    }
   ],
   "source": [
    "if use_total_rate:\n",
    "    alkoxy = Species(label = alkoxy_name).from_smiles(alkoxy_smiles)\n",
    "    no2 = Species().from_smiles('N(=O)[O]')\n",
    "    rxn2 = Reaction(reactants = [no,peroxy], products = [alkoxy, no2], kinetics = alkoxy_rate)\n",
    "    print(write_kinetics_entry(rxn2, [no,peroxy,alkoxy,no2]))\n",
    "    # this is in units of kcal/mol and mol and may need to have the activation energy modified"
   ]
  },
  {
   "cell_type": "code",
   "execution_count": 12,
   "metadata": {},
   "outputs": [
    {
     "name": "stdout",
     "output_type": "stream",
     "text": [
      "PDepArrhenius(pressures=([0.01,0.1,1,10,100],'bar'), arrhenius=[Arrhenius(A=(1.70409e+26,'m^3/(mol*s)'), n=-8.08735, Ea=(16.1936,'kJ/mol'), T0=(1,'K'), Tmin=(250,'K'), Tmax=(1250,'K'), comment=\"\"\"Fitted to 20 data points; dA = *|/ 4.84581, dn = +|- 0.213524, dEa = +|- 0.953612 kJ/mol\"\"\"), Arrhenius(A=(2.85071e+31,'m^3/(mol*s)'), n=-9.75679, Ea=(17.3031,'kJ/mol'), T0=(1,'K'), Tmin=(250,'K'), Tmax=(1250,'K'), comment=\"\"\"Fitted to 20 data points; dA = *|/ 3.27964, dn = +|- 0.160704, dEa = +|- 0.717715 kJ/mol\"\"\"), Arrhenius(A=(5.48873e+32,'m^3/(mol*s)'), n=-10.2261, Ea=(14.0354,'kJ/mol'), T0=(1,'K'), Tmin=(250,'K'), Tmax=(1250,'K'), comment=\"\"\"Fitted to 20 data points; dA = *|/ 2.26894, dn = +|- 0.110856, dEa = +|- 0.49509 kJ/mol\"\"\"), Arrhenius(A=(1.54367e+32,'m^3/(mol*s)'), n=-10.1042, Ea=(10.2928,'kJ/mol'), T0=(1,'K'), Tmin=(250,'K'), Tmax=(1250,'K'), comment=\"\"\"Fitted to 20 data points; dA = *|/ 4.84154, dn = +|- 0.213405, dEa = +|- 0.953079 kJ/mol\"\"\"), Arrhenius(A=(1.03115e+31,'m^3/(mol*s)'), n=-9.76159, Ea=(7.3855,'kJ/mol'), T0=(1,'K'), Tmin=(250,'K'), Tmax=(1250,'K'), comment=\"\"\"Fitted to 20 data points; dA = *|/ 6.05837, dn = +|- 0.243741, dEa = +|- 1.08856 kJ/mol\"\"\")])\n"
     ]
    }
   ],
   "source": [
    "#nitrate\n",
    "print(repr(rxn.kinetics))"
   ]
  },
  {
   "cell_type": "code",
   "execution_count": 16,
   "metadata": {},
   "outputs": [
    {
     "name": "stdout",
     "output_type": "stream",
     "text": [
      "PDepArrhenius(pressures=([0.01,0.1,1,10,100],'bar'), arrhenius=[Arrhenius(A=(1.62791e+06,'m^3/(mol*s)'), n=-0.000141688, Ea=(-2.99104,'kJ/mol'), T0=(1,'K'), Tmin=(250,'K'), Tmax=(1250,'K'), comment=\"\"\"Fitted to 20 data points; dA = *|/ 1.00026, dn = +|- 3.56474e-05, dEa = +|- 0.000159204 kJ/mol\"\"\"), Arrhenius(A=(1.67071e+06,'m^3/(mol*s)'), n=-0.00346841, Ea=(-2.96676,'kJ/mol'), T0=(1,'K'), Tmin=(250,'K'), Tmax=(1250,'K'), comment=\"\"\"Fitted to 20 data points; dA = *|/ 1.00166, dn = +|- 0.000225047, dEa = +|- 0.00100507 kJ/mol\"\"\"), Arrhenius(A=(2.03697e+06,'m^3/(mol*s)'), n=-0.0292964, Ea=(-2.80448,'kJ/mol'), T0=(1,'K'), Tmin=(250,'K'), Tmax=(1250,'K'), comment=\"\"\"Fitted to 20 data points; dA = *|/ 1.02194, dn = +|- 0.00293612, dEa = +|- 0.0131129 kJ/mol\"\"\"), Arrhenius(A=(3.14328e+06,'m^3/(mol*s)'), n=-0.0858879, Ea=(-2.45349,'kJ/mol'), T0=(1,'K'), Tmin=(250,'K'), Tmax=(1250,'K'), comment=\"\"\"Fitted to 20 data points; dA = *|/ 1.06894, dn = +|- 0.00901984, dEa = +|- 0.0402832 kJ/mol\"\"\"), Arrhenius(A=(5.27984e+06,'m^3/(mol*s)'), n=-0.153785, Ea=(-2.0467,'kJ/mol'), T0=(1,'K'), Tmin=(250,'K'), Tmax=(1250,'K'), comment=\"\"\"Fitted to 20 data points; dA = *|/ 1.14607, dn = +|- 0.0184475, dEa = +|- 0.0823876 kJ/mol\"\"\")])\n"
     ]
    }
   ],
   "source": [
    "print(repr(rxn2.kinetics))"
   ]
  },
  {
   "cell_type": "code",
   "execution_count": 136,
   "metadata": {},
   "outputs": [],
   "source": [
    "# ensure the rates add up\n",
    "errors = np.ndarray((len(temperatures),len(pressures)))\n",
    "for i1, temperature in enumerate(temperatures):\n",
    "    for i2, pressure in enumerate(pressures):\n",
    "        if use_total_rate:\n",
    "            r1 = rxn.get_rate_coefficient(temperature, pressure)\n",
    "            r2 = rxn2.get_rate_coefficient(temperature, pressure)\n",
    "            total = total_kinetics.get_rate_coefficient(temperature)\n",
    "            error = abs(r1 + r2 - total) / total\n",
    "            errors[i1, i2] = error"
   ]
  },
  {
   "cell_type": "code",
   "execution_count": 137,
   "metadata": {},
   "outputs": [
    {
     "data": {
      "text/plain": [
       "0.000763531895444425"
      ]
     },
     "execution_count": 137,
     "metadata": {},
     "output_type": "execute_result"
    }
   ],
   "source": [
    "np.median(errors)"
   ]
  },
  {
   "cell_type": "code",
   "execution_count": 138,
   "metadata": {},
   "outputs": [
    {
     "data": {
      "text/plain": [
       "0.002924592061216611"
      ]
     },
     "execution_count": 138,
     "metadata": {},
     "output_type": "execute_result"
    }
   ],
   "source": [
    "np.mean(errors)"
   ]
  },
  {
   "cell_type": "code",
   "execution_count": 139,
   "metadata": {},
   "outputs": [
    {
     "data": {
      "text/plain": [
       "0.04939315144115557"
      ]
     },
     "execution_count": 139,
     "metadata": {},
     "output_type": "execute_result"
    }
   ],
   "source": [
    "np.max(errors)"
   ]
  },
  {
   "cell_type": "code",
   "execution_count": 140,
   "metadata": {},
   "outputs": [],
   "source": [
    "t_test = 300"
   ]
  },
  {
   "cell_type": "code",
   "execution_count": null,
   "metadata": {},
   "outputs": [],
   "source": [
    "np.max(data)"
   ]
  },
  {
   "cell_type": "code",
   "execution_count": null,
   "metadata": {},
   "outputs": [],
   "source": [
    "np.argmax(data)"
   ]
  },
  {
   "cell_type": "code",
   "execution_count": null,
   "metadata": {},
   "outputs": [],
   "source": [
    "data"
   ]
  },
  {
   "cell_type": "code",
   "execution_count": null,
   "metadata": {},
   "outputs": [],
   "source": [
    "ratios = np.ndarray((len(temperatures),len(pressures)))\n",
    "\n",
    "for i1, t in enumerate(temperatures):\n",
    "    for i2, p in enumerate(pressures):\n",
    "        ratios[i1,i2] = get_nitrate_ratio(number_carbons,p,t)"
   ]
  },
  {
   "cell_type": "code",
   "execution_count": null,
   "metadata": {},
   "outputs": [],
   "source": [
    "pd.DataFrame(index=temperatures, columns = pressures, data=ratios)"
   ]
  },
  {
   "cell_type": "markdown",
   "metadata": {},
   "source": [
    "# compare atkinson to quantum\n",
    "Here I output atkinson rates at 300, 800, and 1500 and compare it to the RRCM results by http://dx.doi.org/10.1016/j.comptc.2017.04.015"
   ]
  },
  {
   "cell_type": "code",
   "execution_count": null,
   "metadata": {},
   "outputs": [],
   "source": [
    "import numpy as np"
   ]
  },
  {
   "cell_type": "code",
   "execution_count": null,
   "metadata": {},
   "outputs": [],
   "source": [
    "atkinson_rxn = lambda t: 2.7e-12*np.exp(360./t)\n",
    "temps = [300,800,1500]\n",
    "atkinson_rates = np.array([atkinson_rxn(t) for t in temps])"
   ]
  },
  {
   "cell_type": "code",
   "execution_count": null,
   "metadata": {},
   "outputs": [],
   "source": [
    "\n",
    "#these were translated by engague from figure 7 in the paper at low pressure limits.\n",
    "ng_rates = np.array([2.08e-11,2.47e-11,6.58e-11])"
   ]
  },
  {
   "cell_type": "code",
   "execution_count": null,
   "metadata": {},
   "outputs": [],
   "source": [
    "atkinson_rates"
   ]
  },
  {
   "cell_type": "code",
   "execution_count": null,
   "metadata": {},
   "outputs": [],
   "source": [
    "rate_diff = ng_rates/ atkinson_rates"
   ]
  },
  {
   "cell_type": "code",
   "execution_count": null,
   "metadata": {},
   "outputs": [],
   "source": [
    "rate_diff"
   ]
  },
  {
   "cell_type": "markdown",
   "metadata": {},
   "source": [
    "It seems like a different rate coefficient is predicted by the quantum and atkinson, with quantum overestimating the rate, which is typical. The rate overestimate is 2 times at atm temperature, 6 times at 800K and 20x at 1500K. "
   ]
  },
  {
   "cell_type": "code",
   "execution_count": 64,
   "metadata": {},
   "outputs": [
    {
     "data": {
      "text/plain": [
       "36132000000.0"
      ]
     },
     "execution_count": 64,
     "metadata": {},
     "output_type": "execute_result"
    }
   ],
   "source": [
    "6e-14*6.022e23"
   ]
  },
  {
   "cell_type": "code",
   "execution_count": 66,
   "metadata": {},
   "outputs": [
    {
     "data": {
      "text/plain": [
       "1092.8500000000001"
      ]
     },
     "execution_count": 66,
     "metadata": {},
     "output_type": "execute_result"
    }
   ],
   "source": [
    "550 *1.987"
   ]
  },
  {
   "cell_type": "code",
   "execution_count": null,
   "metadata": {},
   "outputs": [],
   "source": []
  }
 ],
 "metadata": {
  "kernelspec": {
   "display_name": "Python 3",
   "language": "python",
   "name": "python3"
  },
  "language_info": {
   "codemirror_mode": {
    "name": "ipython",
    "version": 3
   },
   "file_extension": ".py",
   "mimetype": "text/x-python",
   "name": "python",
   "nbconvert_exporter": "python",
   "pygments_lexer": "ipython3",
   "version": "3.7.7"
  },
  "toc": {
   "nav_menu": {
    "height": "20px",
    "width": "254px"
   },
   "navigate_menu": true,
   "number_sections": true,
   "sideBar": true,
   "threshold": 4,
   "toc_cell": true,
   "toc_section_display": "block",
   "toc_window_display": true
  }
 },
 "nbformat": 4,
 "nbformat_minor": 4
}
