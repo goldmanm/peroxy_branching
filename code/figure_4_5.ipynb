{
 "cells": [
  {
   "cell_type": "markdown",
   "metadata": {},
   "source": [
    "This notebooks porduces figures 3 and 4 from the publication.\n",
    "\n",
    "To produce figure 4, data of products must be pre-calculated, which can be done with the scripts within the folders of `data/fig_4_data/`. Just activate the environment in the terminal and run `python make_diagram.py`.\n",
    "\n",
    "Plots will be saved to `../results/`"
   ]
  },
  {
   "cell_type": "code",
   "execution_count": null,
   "metadata": {
    "scrolled": true
   },
   "outputs": [],
   "source": [
    "import re\n",
    "import os\n",
    "\n",
    "import numpy as np\n",
    "from IPython.display import display, Image\n",
    "import pandas as pd\n",
    "import matplotlib as mpl\n",
    "import matplotlib.pyplot as plt\n",
    "from matplotlib.patches import Rectangle\n",
    "import seaborn as sns\n",
    "\n",
    "import cantera as ct\n",
    "\n",
    "import simulation as ctt\n",
    "\n",
    "sns.set_style('white')\n",
    "sns.set_style('ticks')\n",
    "sns.set_context('paper',font_scale=1.5)\n",
    "\n",
    "%matplotlib inline"
   ]
  },
  {
   "cell_type": "code",
   "execution_count": null,
   "metadata": {},
   "outputs": [],
   "source": [
    "directory = '../data/mechanism/'\n",
    "directory_fig_4_data = '../data/fig_4_data/'\n",
    "image_path = '../results/'"
   ]
  },
  {
   "cell_type": "code",
   "execution_count": null,
   "metadata": {},
   "outputs": [],
   "source": [
    "butanol_vars = {\n",
    "    'input_path': directory,\n",
    "    \"conversion_species\": ['gR', 'gRO2'],\n",
    "    \"starting_alkyl_radical\": 'gR',\n",
    "    # 8 cycles\n",
    "    \"species_to_plot\": ['OOCC(CO)C', # hydroperoxy\n",
    "                       ['[O]CC(CO)C','galdol'],  # NO reaction\n",
    "                       'OOCC(C=O)C', # isom\n",
    "                       ['galdoxy','O=CC(C)C=O'], # water formation\n",
    "                       ['CC=C','propene3ol'], # r decomp\n",
    "                        'NO2OCC(CO)C', # nirate formation\n",
    "                       'galkene', # HO2 alkene\n",
    "                       ['disub_c4ether','disub_epoxy','monosub_c4ether'], # cyclic ether\n",
    "                       ['OOCC(C(O[O])O)C','O=CC(C)C(OO)O','OOCC(CO)CO[O]','OCC(O[O])(COO)C','O=CC(CO)COO','OCC(OO)(C=O)C'],# chain oxidation\n",
    "                      ],\n",
    "    \"in_legend\": ['hydroperoxy', 'alkoxy','isom','water loss','R decomp','nitrate','epoxy','alkene'],\n",
    "    'image_path': image_path,\n",
    "    'reactions_to_remove': None,\n",
    "#    \"\"\"products not accounted for in the above scheme:\n",
    "#       \n",
    "#       OOCC(C=O)C - from the H-transfer from hydroxyl group followed by disproportionation by O2\n",
    "#       CC=CO - from the double \\beta scission pathway with semi-high barrier\n",
    "#       \"\"\"\n",
    "}\n",
    "butanol_vars['cantera_input_file'] =  os.path.join(butanol_vars['input_path'],'gamma_i_butanol.cti')\n",
    "propane_vars = {\n",
    "    'input_path': directory,\n",
    "    'conversion_species': ['npropyl','npropyloo'],\n",
    "    'starting_alkyl_radical': 'npropyl',\n",
    "    'species_to_plot': ['npropylooh',\n",
    "                       ['npropyloxy','propanal','CH3CH2OO','CH3CH2OOH'], #the c2 comes from breaking of npropyloxy\n",
    "                       ['prod_1','CO'], # 1 CO produced by the khp cycle\n",
    "                       'C3H6',\n",
    "                       'C2H4',\n",
    "                       'npropylONO2',\n",
    "                       'propoxide'],\n",
    "    'in_legend': ['hydroperoxy', 'alkoxy','isom','propene', 'R decomp','nitrate','epoxy'],\n",
    "    'image_path': image_path,\n",
    "    'reactions_to_remove': ['CH3CH2OO + NO <=> NO2 + ethoxy',\n",
    "                       'C2H4 + H (+M) <=> C2H5 (+M)',\n",
    "                       '2 C2H4 <=> C2H3 + C2H5',\n",
    "                       'C2H5 + CH3 <=> C2H4 + CH4',\n",
    "                       'C2H5 + H <=> C2H4 + H2',\n",
    "                       'C2H5 + O2 <=> C2H4 + HO2',\n",
    "                       'C2H5 + O2 <=> C2H4 + HO2',\n",
    "                       'C2H5 + allyl <=> C2H4 + C3H6',\n",
    "                       'CH3CH2OO <=> C2H4 + HO2',\n",
    "                       'CH2CH2OOH <=> CH3CH2OO',\n",
    "                       'C2H5 + O2 <=> CH2CH2OOH',\n",
    "                       'npropyl <=> C3H6 + H',\n",
    "                       'OH + propanal <=> H2O + propionyl',\n",
    "                       'HO2 + propanal <=> H2O2 + propionyl',\n",
    "                      ]\n",
    "}\n",
    "\n",
    "propane_vars['cantera_input_file'] =  os.path.join(propane_vars['input_path'],'merchant-full_w_NO.cti')\n"
   ]
  },
  {
   "cell_type": "code",
   "execution_count": null,
   "metadata": {},
   "outputs": [],
   "source": [
    "cb = sns.color_palette('colorblind')\n",
    "colorblind_custom = [cb[2], cb[4], cb[8], cb[3], cb[9], cb[1], cb[6], cb[0], cb[7]]"
   ]
  },
  {
   "cell_type": "markdown",
   "metadata": {},
   "source": [
    "# methods"
   ]
  },
  {
   "cell_type": "code",
   "execution_count": null,
   "metadata": {},
   "outputs": [],
   "source": [
    "def get_heatmap_data(df, plotted_elements, temperatures=np.linspace(250,1250,25), pressures = np.logspace(3,7,15), colors=None):\n",
    "    heatmap = pd.DataFrame(index=pressures, columns = temperatures)\n",
    "    if colors is None:\n",
    "        colors = colorblind_custom[:len(plotted_elements)]\n",
    "    else:\n",
    "        colors = colors[:len(plotted_elements)]\n",
    "    for index in df.index:\n",
    "        plotted_element_values = []\n",
    "        for e in plotted_elements:\n",
    "            if isinstance(e, list):\n",
    "                plotted_element_values.append(df.loc[index,e].sum())\n",
    "            else: plotted_element_values.append(df.loc[index,e])\n",
    "        if sum(plotted_element_values) > 1:\n",
    "            print('found plotted element values greater than one')\n",
    "            print(zip(in_legend,plotted_element_values))\n",
    "        plotted_element_values = np.array(plotted_element_values) / sum(plotted_element_values)\n",
    "        try:\n",
    "            heatmap.loc[df.loc[index,'pres (Pa)'], df.loc[index,'temp (K)']]=\\\n",
    "                np.dot(plotted_element_values,colors)\n",
    "            if any(heatmap.loc[df.loc[index,'pres (Pa)'], df.loc[index,'temp (K)']] > 1):\n",
    "                print(df.loc[index,:])\n",
    "                print(plotted_element_values)\n",
    "                print(heatmap.loc[df.loc[index,'pres (Pa)'], df.loc[index,'temp (K)']])\n",
    "                print(colors)\n",
    "        except ValueError:\n",
    "            print(len(colors))\n",
    "            print(len(plotted_elements))\n",
    "            print(len(plotted_element_values))\n",
    "            print(np.dot(plotted_element_values,colors))\n",
    "            print(plotted_element_values[0])\n",
    "            print('unable to set the color in the heatmap. Did you put the proper temperature and pressure ranges in?')\n",
    "            raise\n",
    "    return heatmap"
   ]
  },
  {
   "cell_type": "code",
   "execution_count": null,
   "metadata": {},
   "outputs": [],
   "source": [
    "def get_heatmap_data_T_NO(df, plotted_elements, temperatures=np.linspace(250,1250,25), NO_fracs = np.logspace(-12,-4,15), colors=None):\n",
    "    heatmap = pd.DataFrame(index=NO_fracs, columns = temperatures)\n",
    "    if colors is None:\n",
    "        colors = colorblind_custom[:len(plotted_elements)]\n",
    "    else:\n",
    "        colors = colors[:len(plotted_elements)]\n",
    "    for index in df.index:\n",
    "        plotted_element_values = []\n",
    "        for e in plotted_elements:\n",
    "            if isinstance(e, list):\n",
    "                plotted_element_values.append(df.loc[index,e].sum())\n",
    "            else: plotted_element_values.append(df.loc[index,e])\n",
    "        plotted_element_values = np.array(plotted_element_values) / sum(plotted_element_values)\n",
    "        try:\n",
    "            if sum(plotted_element_values) < 0.85:\n",
    "                print(df.loc[index,:].sort_values())\n",
    "                raise Exception('could not find {0} of the products at T={1} and NO={2}'.format(1-sum(plotted_element_values), df.loc[index,'temp (K)'],df.loc[index,'NO (fraction)']))\n",
    "            heatmap.loc[df.loc[index,'NO (fraction)'], df.loc[index,'temp (K)']]=\\\n",
    "                np.dot(plotted_element_values,colors)\n",
    "        except ValueError:\n",
    "            print('unable to set the color in the heatmap. Did you put the proper temperature and pressure ranges in?')\n",
    "            raise\n",
    "    return heatmap"
   ]
  },
  {
   "cell_type": "code",
   "execution_count": null,
   "metadata": {},
   "outputs": [],
   "source": [
    "def get_heatmap_graph(heatmap_data, legend_labels = [],num_xticks = 5, colors = None, pressure_scale='log', num_yticks = 6, ax=None, T_range = None):\n",
    "    if colors is None:\n",
    "        colors = colorblind_custom[:len(legend_labels)]\n",
    "    else:\n",
    "        colors = colors[:len(legend_labels)]\n",
    "    nrows = len(heatmap_data.index)\n",
    "    ncols = len(heatmap_data.columns)\n",
    "    \n",
    "    if not ax:\n",
    "        ax = plt.subplot()\n",
    "    for i_num, pressures in enumerate(heatmap_data.index):\n",
    "        for c_num, temperatures in enumerate(heatmap_data.columns):\n",
    "            rec = Rectangle((float(c_num)/ncols,float(i_num)/nrows), 1./ncols, 1./nrows,facecolor=heatmap_data.loc[pressures,temperatures],\n",
    "                           linewidth=0,rasterized=True)\n",
    "            ax.add_patch(rec)\n",
    "\n",
    "    ax.set_xlabel('Temperature (K)')\n",
    "    if T_range:\n",
    "        tmin = T_range[0]\n",
    "        tmax = T_range[1]\n",
    "    else:\n",
    "        tmin = int(np.round(np.min(heatmap_data.columns.values)))\n",
    "        tmax = int(np.round(np.max(heatmap_data.columns.values)))\n",
    "    xticks_minor = np.linspace(0,1,num_xticks * 5 - 4)\n",
    "    ax.set_xticks(xticks_minor,minor=True)\n",
    "    xticks = np.linspace(0,1,num_xticks)\n",
    "    ax.set_xticks(xticks)\n",
    "    ax.set_xticklabels([ int(tmin + (tmax-tmin)*i) for i in xticks])\n",
    "    \n",
    "    ax.set_ylabel('Pressure (bar)')\n",
    "    pmin = np.min(heatmap_data.index.values)\n",
    "    pmax = np.max(heatmap_data.index.values)\n",
    "    if pressure_scale == 'log':\n",
    "        if int(np.round(np.log10(pmin))) == 4 and int(np.round(np.log10(pmax))) == 6:\n",
    "            ax.set_yticks([0,.5,1])\n",
    "            ax.set_yticklabels([0.1, 1, 10])\n",
    "        elif int(np.round(np.log10(pmin))) == 3 and int(np.round(np.log10(pmax))) == 7:\n",
    "            yticks_minor_one_order_magnitude = np.log10(range(10)[1:])\n",
    "            oom_span = 4\n",
    "            yticks_minor = np.concatenate([(yticks_minor_one_order_magnitude + i)/4 for i in range(oom_span)])\n",
    "            ax.set_yticks(yticks_minor, minor=True)\n",
    "            ax.set_yticks([0,.25,.5,.75,1])\n",
    "            ax.set_yticklabels([0.01,0.1, 1, 10, 100])\n",
    "        else:\n",
    "            raise Exception('Have not implemented proper y axis labels for the pressure range 10**{0}-10**{1}.'.format(pmin,pmax))\n",
    "    elif pressure_scale == 'linear':\n",
    "        # make like temperatures\n",
    "        yticks = np.linspace(0,1,num_yticks)\n",
    "        ax.set_yticks(yticks)\n",
    "        ax.set_yticklabels([ int(pmin + (pmax-pmin)*i) / 1.0e5 for i in yticks])\n",
    "    else:\n",
    "        raise Exception('Only linear and log attributes accepted for pressure_scale')\n",
    "    legend_icons = [Rectangle((0,0), 1, 1,facecolor=color) for color in colors]\n",
    "    kwargs = {'bbox_to_anchor':(0.0, -.2), 'loc':2, 'borderaxespad':0.}\n",
    "    ax.legend(legend_icons,legend_labels,**kwargs)\n",
    "\n",
    "    return ax"
   ]
  },
  {
   "cell_type": "code",
   "execution_count": null,
   "metadata": {},
   "outputs": [],
   "source": [
    "def get_heatmap_graph_T_NO(heatmap_data, legend_labels = [],num_xticks = 5, colors = None, NO_scale='log', num_yticks = 6, ax=None, T_range=None):\n",
    "    if colors is None:\n",
    "        colors = colorblind_custom[:len(legend_labels)]\n",
    "    else:\n",
    "        colors = colors[:len(legend_labels)]\n",
    "    nrows = len(heatmap_data.index)\n",
    "    ncols = len(heatmap_data.columns)\n",
    "    if not ax:\n",
    "        ax = plt.subplot()\n",
    "    for i_num, pressures in enumerate(heatmap_data.index):\n",
    "        for c_num, temperatures in enumerate(heatmap_data.columns):\n",
    "            rec = Rectangle((float(c_num)/ncols,float(i_num)/nrows), 1./ncols, 1./nrows,facecolor=heatmap_data.loc[pressures,temperatures],\n",
    "                            linewidth=0,rasterized=True)\n",
    "            ax.add_patch(rec)\n",
    "\n",
    "    ax.set_xlabel('Temperature (K)')\n",
    "    if T_range:\n",
    "        tmin = T_range[0]\n",
    "        tmax = T_range[1]\n",
    "    else:\n",
    "        tmin = int(np.round(np.min(heatmap_data.columns.values)))\n",
    "        tmax = int(np.round(np.max(heatmap_data.columns.values)))\n",
    "    xticks = np.linspace(0,1,num_xticks)\n",
    "    xticks_minor = np.linspace(0,1,num_xticks * 5 - 4)\n",
    "    ax.set_xticks(xticks_minor,minor=True)\n",
    "    ax.set_xticks(xticks)\n",
    "    ax.set_xticklabels([ int(tmin + (tmax-tmin)*i) for i in xticks])\n",
    "    \n",
    "    ax.set_ylabel('NO',rotation='horizontal')\n",
    "    pmin = np.min(heatmap_data.index.values)\n",
    "    pmax = np.max(heatmap_data.index.values)\n",
    "    if NO_scale == 'log':\n",
    "        if int(np.round(np.log10(pmin))) == -12 and int(np.round(np.log10(pmax))) == -4:\n",
    "            yticks_minor = np.linspace(0,1,9)\n",
    "            ax.set_yticks(yticks_minor,minor=True)\n",
    "            ax.set_yticks([0,3./8,6./8,1])\n",
    "            ax.set_yticklabels(['1 ppt', '1 ppb','1 ppm', '100 ppm'])\n",
    "        elif int(np.round(np.log10(pmin))) == 3 and int(np.round(np.log10(pmax))) == 7:\n",
    "            ax.set_yticks([0,.25,.5,.75,1])\n",
    "            ax.set_yticklabels([0.01,0.1, 1, 10, 100])\n",
    "        else:\n",
    "            raise Exception('Have not implemented proper y axis labels for the NO range 10**{0}-10**{1}.'.format(pmin,pmax))\n",
    "    elif NO_scale == 'linear':\n",
    "        # make like temperatures\n",
    "        yticks = np.linspace(0,1,num_yticks)\n",
    "        ax.set_yticks(yticks)\n",
    "        ax.set_yticklabels([ int(pmin + (pmax-pmin)*i) / 1.0e5 for i in yticks])\n",
    "    else:\n",
    "        raise Exception('Only linear and log attributes accepted for NO_scale')\n",
    "    legend_icons = [Rectangle((0,0), 1, 1,facecolor=color) for color in colors]\n",
    "    kwargs = {'bbox_to_anchor':(0.0, -.2), 'loc':2, 'borderaxespad':0.}\n",
    "    ax.legend(legend_icons,legend_labels,**kwargs)\n",
    "\n",
    "    return ax"
   ]
  },
  {
   "cell_type": "markdown",
   "metadata": {},
   "source": [
    "# figure 5"
   ]
  },
  {
   "cell_type": "code",
   "execution_count": null,
   "metadata": {
    "scrolled": true
   },
   "outputs": [],
   "source": [
    "f, axes = plt.subplots(nrows=2,ncols=2,figsize = [12,8],gridspec_kw={'wspace':.35,'hspace':0.35})"
   ]
  },
  {
   "cell_type": "code",
   "execution_count": null,
   "metadata": {},
   "outputs": [],
   "source": [
    "annotate = False"
   ]
  },
  {
   "cell_type": "code",
   "execution_count": null,
   "metadata": {},
   "outputs": [],
   "source": [
    "shorter_range = False # only show 250-750\n",
    "if shorter_range:\n",
    "    num_xticks = 6\n",
    "    T_range = (250,750)\n",
    "else:\n",
    "    num_xticks = 5\n",
    "    T_range = None"
   ]
  },
  {
   "cell_type": "code",
   "execution_count": null,
   "metadata": {},
   "outputs": [],
   "source": [
    "import pandas as pd"
   ]
  },
  {
   "cell_type": "code",
   "execution_count": null,
   "metadata": {},
   "outputs": [],
   "source": [
    "colorblind_custom_butanol= [colorblind_custom[x] for x in [0, 1, 2, 7,  4,5,6, 3,8,]]"
   ]
  },
  {
   "cell_type": "code",
   "execution_count": null,
   "metadata": {},
   "outputs": [],
   "source": [
    "axis_func = get_heatmap_graph\n",
    "\n",
    "# for butanol_1ppb\n",
    "file_name = 'butanol_1ppb/run_data.pic'\n",
    "df = pd.read_pickle(os.path.join(directory_fig_4_data, file_name))\n",
    "if shorter_range:\n",
    "    df = df[df['temp (K)'] < 750]\n",
    "temperatures = list(set(df['temp (K)']))\n",
    "temperatures.sort()\n",
    "pressures = list(set(df['pres (Pa)']))\n",
    "pressures.sort()\n",
    "species_to_plot = butanol_vars['species_to_plot']\n",
    "heatmap_data = get_heatmap_data(df,species_to_plot, temperatures=temperatures, pressures = pressures, colors=colorblind_custom_butanol)\n",
    "ax = axes[0][1]\n",
    "axis_func(heatmap_data,num_xticks=num_xticks,ax=ax, T_range=T_range, colors=colorblind_custom_butanol)\n",
    "if annotate:\n",
    "    ax.annotate('alkoxy',(0.05,.8), (.1,0.9), arrowprops={'arrowstyle':'-'})\n",
    "    ax.annotate('isom',(0.125,.7), (.175,0.8), arrowprops={'arrowstyle':'-'})\n",
    "    ax.annotate('water loss', (0.25,.6))\n",
    "    ax.annotate('R decomp', (0.65,.5))\n",
    "ax.annotate('(c)',(0.0,1.1), fontsize = 12)\n",
    "ax.legend([],frameon=False,loc='right')\n",
    "\n",
    "# for propane_1ppb\n",
    "file_name = 'propane_1ppb/run_data.pic'\n",
    "df = pd.read_pickle(os.path.join(directory_fig_4_data, file_name))\n",
    "if shorter_range:\n",
    "    df = df[df['temp (K)'] < 750]\n",
    "species_to_plot = propane_vars['species_to_plot']\n",
    "heatmap_data = get_heatmap_data(df,species_to_plot, temperatures=temperatures, pressures = pressures, colors=colorblind_custom)\n",
    "ax = axes[0][0]\n",
    "axis_func(heatmap_data,num_xticks=num_xticks,ax=ax, T_range=T_range, colors=colorblind_custom)\n",
    "if annotate:\n",
    "    ax.annotate('alkoxy',(0.05,.85))\n",
    "    ax.annotate('isom',(0.27,.65), )\n",
    "    ax.annotate('alkene', (0.55,.75),(0.6,0.73),arrowprops={'arrowstyle':'-'})\n",
    "    ax.annotate('R decomp', (0.65,.2))\n",
    "ax.annotate('(a)',(0.0,1.1), fontsize = 12)\n",
    "ax.legend([],frameon=False, loc='right')\n",
    "\n",
    "# constant pressure\n",
    "axis_func = get_heatmap_graph_T_NO\n",
    "\n",
    "# for butanol_1bar\n",
    "file_name = 'butanol_1bar/run_data.pic'\n",
    "df = pd.read_pickle(os.path.join(directory_fig_4_data, file_name))\n",
    "if shorter_range:\n",
    "    df = df[df['temp (K)'] < 750]\n",
    "temperatures = list(set(df['temp (K)']))\n",
    "temperatures.sort()\n",
    "NO = list(set(df['NO (fraction)']))\n",
    "NO.sort()\n",
    "species_to_plot = butanol_vars['species_to_plot']\n",
    "heatmap_data = get_heatmap_data_T_NO(df,species_to_plot, temperatures=temperatures, NO_fracs = NO, colors=colorblind_custom_butanol)\n",
    "ax = axes[1][1]\n",
    "axis_func(heatmap_data,num_xticks=num_xticks,ax = ax, T_range=T_range, colors=colorblind_custom_butanol)\n",
    "if annotate:\n",
    "    ax.annotate('alkoxy',(0.05,.9))\n",
    "    ax.annotate('isom',(0.1,.25), (.2,0.23), arrowprops={'arrowstyle':'-'})\n",
    "    ax.annotate('hydroperoxy', (0.005,0.05),(0.1,0.03),arrowprops={'arrowstyle':'-'})\n",
    "    ax.annotate('water loss', (0.22,0.5))\n",
    "    ax.annotate('R decomp', (0.65,.7))\n",
    "ax.annotate('(d)',(0.0,1.1),color = 'k', fontsize = 12)\n",
    "ax.legend([],frameon=False,loc='right')\n",
    "\n",
    "# for propane_1bar\n",
    "file_name = 'propane_1bar/run_data.pic'\n",
    "df = pd.read_pickle(os.path.join(directory_fig_4_data, file_name))\n",
    "if shorter_range:\n",
    "    df = df[df['temp (K)'] < 750]\n",
    "temperatures = list(set(df['temp (K)']))\n",
    "temperatures.sort()\n",
    "NO = list(set(df['NO (fraction)']))\n",
    "NO.sort()\n",
    "species_to_plot = propane_vars['species_to_plot']\n",
    "heatmap_data = get_heatmap_data_T_NO(df,species_to_plot, temperatures=temperatures, NO_fracs = NO, colors=colorblind_custom)\n",
    "ax = axes[1][0]\n",
    "axis_func(heatmap_data,num_xticks=num_xticks, ax=ax, T_range=T_range, colors=colorblind_custom)\n",
    "if annotate:\n",
    "    ax.annotate('alkoxy',(0.1,.8))\n",
    "    ax.annotate('isom',(.2,0.23))\n",
    "    ax.annotate('hydroperoxy', (0.04,0.03),(0.125,0.01),arrowprops={'arrowstyle':'-'})\n",
    "    ax.annotate('alkene', (0.45,0.5), (0.55,0.48),arrowprops={'arrowstyle':'-'})\n",
    "    ax.annotate('R decomp', (0.75,.7))\n",
    "ax.annotate('(b)',(0.0,1.1), fontsize = 12)\n",
    "ax.legend([],frameon=False,loc='right')\n"
   ]
  },
  {
   "cell_type": "code",
   "execution_count": null,
   "metadata": {},
   "outputs": [],
   "source": [
    "ax = axes[0][0]\n",
    "ax.set_title('n-propyl peroxy')\n",
    "\n",
    "ax = axes[0][1]\n",
    "ax.set_title(u'γ-isobutanol peroxy')"
   ]
  },
  {
   "cell_type": "code",
   "execution_count": null,
   "metadata": {},
   "outputs": [],
   "source": [
    "f"
   ]
  },
  {
   "cell_type": "code",
   "execution_count": null,
   "metadata": {},
   "outputs": [],
   "source": [
    "if shorter_range:\n",
    "    f.savefig(os.path.join(image_path,'four_2D_figures_no_labels_low_T.png'),dpi=600,bbox_inches='tight')\n",
    "    f.savefig(os.path.join(image_path,'four_2D_figures_no_labels_low_T.pdf'),bbox_inches='tight')\n",
    "else:\n",
    "    f.savefig(os.path.join(image_path,'four_2D_figures_no_labels_new.png'),dpi=598,bbox_inches='tight')\n",
    "    #f.savefig(os.path.join(image_path,'four_2D_figures_no_labels.pdf'),bbox_inches='tight')\n",
    "    #f.savefig(os.path.join(image_path,'four_2D_figures_no_labels.svg'),bbox_inches='tight')\n"
   ]
  },
  {
   "cell_type": "markdown",
   "metadata": {},
   "source": [
    "# figure 4"
   ]
  },
  {
   "cell_type": "code",
   "execution_count": null,
   "metadata": {},
   "outputs": [],
   "source": [
    "def simulate_branching_various_conditions_3D(solution, HO2_frac, conversion_species=['npropyloo','npropyl'], desired_conversion=0.95,\n",
    "                                             expected_products = None, peroxy_frac=1e-17, \n",
    "                                          temperatures=np.linspace(250,1250,25), pressures = np.logspace(3,7,15), \n",
    "                                             NO_fracs = np.logspace(-12,-4,15), starting_alkyl_radical='npropyl'):\n",
    "\n",
    "    combs = [{'temp (K)':f1, 'NO (fraction)':f2, 'pres (Pa)':f3} for f1 in temperatures for f2 in NO_fracs for f3 in pressures]\n",
    "    df = pd.DataFrame(combs)\n",
    "    \n",
    "    for index in df.index:\n",
    "        initialMoleFractions={\n",
    "            \"NO\": df.loc[index,'NO (fraction)'],\n",
    "            \"HO2\": HO2_frac,\n",
    "            starting_alkyl_radical: peroxy_frac,\n",
    "            'O2': 0.21,\n",
    "            \"N2\": 0.79,\n",
    "        }\n",
    "        \n",
    "\n",
    "        conditions = df.loc[index,'temp (K)'], df.loc[index,'pres (Pa)'], initialMoleFractions\n",
    "        solution.TPX = conditions\n",
    "        reactor = ct.IdealGasConstPressureReactor(solution, energy='off')\n",
    "        simulator = ct.ReactorNet([reactor])\n",
    "        solution = reactor.kinetics\n",
    "        \n",
    "        peroxy_conc = sum([solution.concentrations[solution.species_index(s)] for s in conversion_species])\n",
    "        outputs = ctt.run_simulation_till_conversion(solution=solution,\n",
    "                                     conditions= conditions, \n",
    "                                     species = conversion_species,\n",
    "                                     conversion = desired_conversion,\n",
    "                                     condition_type='constant-temperature-and-pressure',\n",
    "                                     output_reactions=False,\n",
    "                                     atol=1e-25,\n",
    "                                     skip_data=1e9,\n",
    "                           )\n",
    "        species = outputs['species'].iloc[-1,:]\n",
    "\n",
    "        for name, conc in species.iteritems():\n",
    "            if  not expected_products or name in expected_products:\n",
    "                df.loc[index,name] = conc / peroxy_conc\n",
    "            \n",
    "    df.fillna(value = 0, inplace = True)\n",
    "    return df"
   ]
  },
  {
   "cell_type": "markdown",
   "metadata": {},
   "source": [
    "## propane"
   ]
  },
  {
   "cell_type": "code",
   "execution_count": null,
   "metadata": {},
   "outputs": [],
   "source": [
    "variables = propane_vars\n",
    "cantera_input_file = variables['cantera_input_file']"
   ]
  },
  {
   "cell_type": "code",
   "execution_count": null,
   "metadata": {},
   "outputs": [],
   "source": [
    "solution=ctt.create_mechanism(cantera_input_file, remove_reaction_equations = variables['reactions_to_remove'])"
   ]
  },
  {
   "cell_type": "code",
   "execution_count": null,
   "metadata": {},
   "outputs": [],
   "source": [
    "species_to_plot = ['npropylooh',\n",
    "                       ['npropyloxy','propanal','CH3CH2OO','CH3CH2OOH'], #the c2 comes from breaking of npropyloxy\n",
    "                       ['prod_1','CO','prod_2','acrolein','prod_3','frag_3','propen1oxy','prod_5','vinoxy',], # 1 CO produced by the khp cycle\n",
    "                       'C3H6',\n",
    "                       'C2H4',\n",
    "                       'npropylONO2','propoxide',]\n",
    "in_legend = ['hydroperoxy', 'alkoxy','isom','propene', 'R decomp','nitrate','epoxy',]\n",
    "# get expected products\n",
    "expected_products = []\n",
    "for item in species_to_plot:\n",
    "    if isinstance(item,list):\n",
    "        for item2 in item:\n",
    "            expected_products.append(item2)\n",
    "    else:\n",
    "        expected_products.append(item)"
   ]
  },
  {
   "cell_type": "code",
   "execution_count": null,
   "metadata": {},
   "outputs": [],
   "source": [
    "temperatures = np.linspace(250,1250,100)\n",
    "pressures=[0.5e5]\n",
    "NO=[1e-9]\n",
    "other_conditions = {'HO2_frac': 1e-11}"
   ]
  },
  {
   "cell_type": "code",
   "execution_count": null,
   "metadata": {},
   "outputs": [],
   "source": [
    "df_3d = simulate_branching_various_conditions_3D(solution,temperatures = temperatures,\n",
    "                                                               pressures = pressures,\n",
    "                                                               NO_fracs = NO,\n",
    "                                                               expected_products = expected_products,\n",
    "                                                               **other_conditions)"
   ]
  },
  {
   "cell_type": "code",
   "execution_count": null,
   "metadata": {},
   "outputs": [],
   "source": [
    "df_1d = pd.DataFrame(index=df_3d['temp (K)'])"
   ]
  },
  {
   "cell_type": "code",
   "execution_count": null,
   "metadata": {},
   "outputs": [],
   "source": [
    "for index, rxn_name in enumerate(in_legend):\n",
    "    tgt_species = species_to_plot[index]\n",
    "    if isinstance(tgt_species,str):\n",
    "        tgt_species = [tgt_species]\n",
    "    df_1d[rxn_name] = df_3d[tgt_species].sum(1).values"
   ]
  },
  {
   "cell_type": "code",
   "execution_count": null,
   "metadata": {},
   "outputs": [],
   "source": [
    "f, ax = plt.subplots()\n",
    "((df_1d.T/df_1d.sum(1)).T).plot.area(ax=ax,color=colorblind_custom,linewidth=0)\n",
    "#(df_1d).plot.area(ax=ax,color=colorblind_custom,linewidth=0)\n",
    "ax.legend([],frameon=False)\n",
    "ax.set_ylim(0,1)\n",
    "ax.set_xlim(250,1250)\n",
    "ax.set_xticks([250,500,750,1000,1250])\n",
    "ax.set_yticks([0,.25,.5,.75,1])\n",
    "ax.set_xlabel('Temperature (K)')\n",
    "ax.set_ylabel('Cumulative branching fraction')"
   ]
  },
  {
   "cell_type": "code",
   "execution_count": null,
   "metadata": {},
   "outputs": [],
   "source": [
    "f.savefig(os.path.join(image_path,'n_propane_1d.svg'))"
   ]
  },
  {
   "cell_type": "markdown",
   "metadata": {},
   "source": [
    "## butanol"
   ]
  },
  {
   "cell_type": "code",
   "execution_count": null,
   "metadata": {},
   "outputs": [],
   "source": [
    "variables = butanol_vars"
   ]
  },
  {
   "cell_type": "code",
   "execution_count": null,
   "metadata": {},
   "outputs": [],
   "source": [
    "variables['cantera_input_file']"
   ]
  },
  {
   "cell_type": "code",
   "execution_count": null,
   "metadata": {},
   "outputs": [],
   "source": [
    "solution=ctt.create_mechanism(variables['cantera_input_file'])"
   ]
  },
  {
   "cell_type": "code",
   "execution_count": null,
   "metadata": {},
   "outputs": [],
   "source": [
    "# 8 cycles\n",
    "species_to_plot = ['OOCC(CO)C',\n",
    "                       ['[O]CC(CO)C','galdol'],\n",
    "                       ['OOCC(C=O)C','OOCC(C(O[O])O)C','O=CC(C)C(OO)O','OOCC(CO)CO[O]','OCC(O[O])(COO)C','O=CC(CO)COO','OCC(OO)(C=O)C'],\n",
    "                       ['galdoxy','O=CC(C)C=O'],'galkene',\n",
    "                       ['CC=C','propene3ol','OCC=C'], 'NO2OCC(CO)C',\n",
    "                       ['disub_c4ether','disub_epoxy','monosub_c4ether'],\n",
    "                      ]\n",
    "in_legend = ['HO2 pathway', 'NO alkoxy pathway','KHP Cycle','water loss','HO2 + alkene', \n",
    "                'R decomp','NO nitrate pathway','cyclic ether + OH']\n",
    "# get expected products\n",
    "expected_products = []\n",
    "for item in species_to_plot:\n",
    "    if isinstance(item,list):\n",
    "        for item2 in item:\n",
    "            expected_products.append(item2)\n",
    "    else:\n",
    "        expected_products.append(item)\n"
   ]
  },
  {
   "cell_type": "code",
   "execution_count": null,
   "metadata": {},
   "outputs": [],
   "source": [
    "temperatures = np.linspace(250,1250,100)\n",
    "pressures=[0.5e5]\n",
    "NO=[1e-9]\n",
    "other_conditions = {'HO2_frac': 1e-11}"
   ]
  },
  {
   "cell_type": "code",
   "execution_count": null,
   "metadata": {},
   "outputs": [],
   "source": [
    "df_3d = simulate_branching_various_conditions_3D(solution,temperatures = temperatures,\n",
    "                                                               pressures = pressures,\n",
    "                                                               NO_fracs = NO,\n",
    "                                                               expected_products = expected_products,\n",
    "                                                 conversion_species=variables['conversion_species'],\n",
    "                                                 starting_alkyl_radical=variables['starting_alkyl_radical'],\n",
    "                                                               **other_conditions)"
   ]
  },
  {
   "cell_type": "code",
   "execution_count": null,
   "metadata": {},
   "outputs": [],
   "source": [
    "df_1d = pd.DataFrame(index=df_3d['temp (K)'])"
   ]
  },
  {
   "cell_type": "code",
   "execution_count": null,
   "metadata": {},
   "outputs": [],
   "source": [
    "for index, rxn_name in enumerate(in_legend):\n",
    "    tgt_species = species_to_plot[index]\n",
    "    if isinstance(tgt_species,str):\n",
    "        tgt_species = [tgt_species]\n",
    "    df_1d[rxn_name] = df_3d[tgt_species].sum(1).values"
   ]
  },
  {
   "cell_type": "code",
   "execution_count": null,
   "metadata": {},
   "outputs": [],
   "source": [
    "colorblind_custom_butanol= [colorblind_custom[x] for x in [0, 1, 2, 7, 3, 4,5,6, 8,]]"
   ]
  },
  {
   "cell_type": "code",
   "execution_count": null,
   "metadata": {},
   "outputs": [],
   "source": [
    "f, ax = plt.subplots()\n",
    "((df_1d.T/df_1d.sum(1)).T).plot.area(ax=ax,color=colorblind_custom_butanol,linewidth=0)\n",
    "\n",
    "ax.legend([],frameon=False)\n",
    "ax.set_ylim(0,1)\n",
    "ax.set_xlim(250,1250)\n",
    "ax.set_xticks([250,500,750,1000,1250])\n",
    "ax.set_yticks([0,.25,.5,.75,1])\n",
    "ax.set_xlabel('Temperature (K)')\n",
    "ax.set_ylabel('Cumulative branching fraction')"
   ]
  },
  {
   "cell_type": "code",
   "execution_count": null,
   "metadata": {},
   "outputs": [],
   "source": [
    "f.savefig(os.path.join(image_path,'butanol_1d_w_HO2_elimination.svg'))"
   ]
  }
 ],
 "metadata": {
  "anaconda-cloud": {},
  "kernelspec": {
   "display_name": "Python 3",
   "language": "python",
   "name": "python3"
  },
  "language_info": {
   "codemirror_mode": {
    "name": "ipython",
    "version": 3
   },
   "file_extension": ".py",
   "mimetype": "text/x-python",
   "name": "python",
   "nbconvert_exporter": "python",
   "pygments_lexer": "ipython3",
   "version": "3.8.3"
  },
  "toc": {
   "colors": {
    "hover_highlight": "#DAA520",
    "running_highlight": "#FF0000",
    "selected_highlight": "#FFD700"
   },
   "moveMenuLeft": true,
   "nav_menu": {
    "height": "504px",
    "width": "254px"
   },
   "navigate_menu": true,
   "number_sections": true,
   "sideBar": true,
   "threshold": 4,
   "toc_cell": false,
   "toc_position": {
    "height": "747px",
    "left": "0px",
    "right": "1468px",
    "top": "43px",
    "width": "302px"
   },
   "toc_section_display": "block",
   "toc_window_display": true
  }
 },
 "nbformat": 4,
 "nbformat_minor": 4
}
