{
 "cells": [
  {
   "cell_type": "code",
   "execution_count": 41,
   "metadata": {
    "scrolled": true
   },
   "outputs": [],
   "source": [
    "import re\n",
    "import os\n",
    "\n",
    "import numpy as np\n",
    "import pandas as pd\n",
    "import matplotlib as mpl\n",
    "import matplotlib.pyplot as plt\n",
    "import seaborn as sns\n",
    "\n",
    "import cantera as ct\n",
    "\n",
    "from rmgpy.kinetics import PDepArrhenius, Arrhenius\n",
    "\n",
    "import simulation as ctt\n",
    "\n",
    "%matplotlib inline\n",
    "\n",
    "sns.set_style('white')\n",
    "sns.set_style('ticks')\n",
    "sns.set_context('paper',font_scale=1.5)"
   ]
  },
  {
   "cell_type": "code",
   "execution_count": 42,
   "metadata": {},
   "outputs": [],
   "source": [
    "# denotes whether to create 1 figure or four separate figures\n",
    "multi_panel = False\n",
    "if multi_panel:\n",
    "    f2, axes = plt.subplots(nrows=2,ncols=2,figsize = [12,8],gridspec_kw={'wspace':.35,'hspace':0.35})"
   ]
  },
  {
   "cell_type": "code",
   "execution_count": 43,
   "metadata": {},
   "outputs": [],
   "source": [
    "directory = '../data/mechanism/'\n",
    "overall_image_path = '../results/'"
   ]
  },
  {
   "cell_type": "code",
   "execution_count": 44,
   "metadata": {},
   "outputs": [],
   "source": [
    "radical_production_table = pd.read_csv('../data/radical_production_by_pathway.csv', index_col = 'pathways')"
   ]
  },
  {
   "cell_type": "markdown",
   "metadata": {},
   "source": [
    "# atmospheric figures"
   ]
  },
  {
   "cell_type": "code",
   "execution_count": 45,
   "metadata": {},
   "outputs": [],
   "source": [
    "def simulate_one_condition(solution, conversion_species, desired_conversion = 0.99, df = None, df_index = None):\n",
    "    \"\"\"given a solution object already set to proper conditions, returns the species concentrations\n",
    "    normalized to the fraction of RO2 reacted\"\"\"\n",
    "    reactor = ct.IdealGasConstPressureReactor(solution, energy='off')\n",
    "    simulator = ct.ReactorNet([reactor])\n",
    "    solution = reactor.kinetics\n",
    "    peroxy_conc = sum([solution.concentrations[solution.species_index(species_name)] for species_name in conversion_species]) * desired_conversion\n",
    "    outputs = ctt.run_simulation_till_conversion(solution=solution,\n",
    "                                 species = conversion_species,\n",
    "                                 conversion = desired_conversion,\n",
    "                                 condition_type='constant-temperature-and-pressure',\n",
    "                                 output_reactions=False,\n",
    "                                 atol=1e-28,\n",
    "                                 skip_data= 1e9\n",
    "                       )\n",
    "    if df is None:\n",
    "        series = pd.Series()\n",
    "        for name, conc in outputs['species'].iloc[-1,:].iteritems():\n",
    "            series[name] = conc / peroxy_conc\n",
    "        return series\n",
    "    elif df_index is not None:\n",
    "        for name, conc in species.iteritems():\n",
    "            df.loc[df_index,name] = conc / peroxy_conc\n",
    "    else:\n",
    "        raise AttributeError('If a dataframe is given, it `df_index` must also be specified')\n",
    "        "
   ]
  },
  {
   "cell_type": "markdown",
   "metadata": {},
   "source": [
    "## make atmospheric isomerization plot"
   ]
  },
  {
   "cell_type": "code",
   "execution_count": 46,
   "metadata": {},
   "outputs": [],
   "source": [
    "colors = sns.color_palette(\"GnBu_d\",n_colors=4)\n",
    "colors.reverse()"
   ]
  },
  {
   "cell_type": "code",
   "execution_count": 47,
   "metadata": {},
   "outputs": [],
   "source": [
    "butanol_vars = {\n",
    "    'input_path': '../data/mechanism/',\n",
    "    \"conversion_species\": ['gR', 'gRO2'],\n",
    "    \"starting_alkyl_radical\": 'gR',\n",
    "    # 8 cycles\n",
    "    \"species_to_plot\": ['OOCC(CO)C', # hydroperoxy\n",
    "                       ['[O]CC(CO)C','galdol'],  # NO reaction\n",
    "                       'OOCC(C=O)C', # isom\n",
    "                       ['galdoxy','O=CC(C)C=O'], # water formation\n",
    "                       ['propene','propene3ol'], # r decomp\n",
    "                        'NO2OCC(CO)C', # nirate formation\n",
    "                       'galkene', # HO2 alkene\n",
    "                       ['disub_c4ether','disub_epoxy','monosub_c4ether'], # cyclic ether\n",
    "                       ['OOCC(C(O[O])O)C','O=CC(C)C(OO)O','OOCC(CO)CO[O]','OCC(O[O])(COO)C','O=CC(CO)COO','OCC(OO)(C=O)C'],# chain oxidation\n",
    "                      ],\n",
    "    \"in_legend\": ['hydroperoxy', 'alkoxy','alkoxy_isom','water loss','R decomposition','nitrate','cyclic ether','HO2 elimination','isomerization'],\n",
    "    'image_path': '../results/',\n",
    "    'reactions_to_remove': None,\n",
    "#    \"\"\"products not accounted for in the above scheme:\n",
    "#       \n",
    "#       OOCC(C=O)C - from the H-transfer from hydroxyl group followed by disproportionation by O2\n",
    "#       CC=CO - from the double \\beta scission pathway with semi-high barrier\n",
    "#       \"\"\"\n",
    "}\n",
    "butanol_vars['cantera_input_file'] =  os.path.join(butanol_vars['input_path'],'gamma_i_butanol.cti')"
   ]
  },
  {
   "cell_type": "code",
   "execution_count": 48,
   "metadata": {},
   "outputs": [],
   "source": [
    "variables = butanol_vars\n",
    "\n",
    "cantera_input_file = variables['cantera_input_file']\n",
    "species_to_plot = variables['species_to_plot']\n",
    "starting_alkyl_radical = variables['starting_alkyl_radical']\n",
    "in_legend = variables['in_legend']\n",
    "image_path = variables['image_path']\n",
    "conversion_species = variables['conversion_species']\n",
    "reactions_to_remove = variables['reactions_to_remove']\n",
    "\n",
    "# get expected products\n",
    "expected_products = []\n",
    "for item in species_to_plot:\n",
    "    if isinstance(item,list):\n",
    "        for item2 in item:\n",
    "            expected_products.append(item2)\n",
    "    else:\n",
    "        expected_products.append(item)"
   ]
  },
  {
   "cell_type": "code",
   "execution_count": 49,
   "metadata": {},
   "outputs": [],
   "source": [
    "# first element is RO2, second is the isomerization rate for 6 membered ring shift (from Otkjaer), third is number carbons, and forth is if there are additional functional groups for calculating NO reactivity\n",
    "atm_compounds_to_rates = [('H', 2.66e-4, 4,None),\n",
    "                          ('CH$_3$', 7.67e-3, 5,None),\n",
    "                          ('OH', 4.51e-2, 4, 'OH'),\n",
    "                          ('C=C', 6.13e-1, 6, None),]"
   ]
  },
  {
   "cell_type": "code",
   "execution_count": 50,
   "metadata": {},
   "outputs": [],
   "source": [
    "from rmgpy.chemkin import load_chemkin_file"
   ]
  },
  {
   "cell_type": "code",
   "execution_count": 51,
   "metadata": {},
   "outputs": [],
   "source": [
    "rxn_change_rate = 'gRO2 <=> gQOOHa'\n",
    "# list of species missing the C-H bond with modified strength \n",
    "# (enthalpy lowered with with weaker CH bond strength)\n",
    "species_change_enthalpy = ['gQOOHa','galdoxy','disub_c4ether',\n",
    "                           'propen1ol','OOCC(C(O[O])O)C','O=CC(C)C(OO)O']"
   ]
  },
  {
   "cell_type": "code",
   "execution_count": 52,
   "metadata": {},
   "outputs": [],
   "source": [
    "def adjust_NO_rates_to_cnum(reactions_rmg, carbon_num, other_functional_groups=None):\n",
    "    if carbon_num == 4:\n",
    "        # atkinson 1997 with C4 compound\n",
    "        if other_functional_groups == 'OH':\n",
    "            oxy_rates = PDepArrhenius(pressures=([0.01,0.1,1,10,100],'bar'), arrhenius=[Arrhenius(A=(1.62791e+06,'m^3/(mol*s)'), n=-0.000141688, Ea=(-2.99104,'kJ/mol'), T0=(1,'K'), Tmin=(250,'K'), Tmax=(1250,'K'), comment=\"\"\"Fitted to 20 data points; dA = *|/ 1.00026, dn = +|- 3.56474e-05, dEa = +|- 0.000159204 kJ/mol\"\"\"), Arrhenius(A=(1.67071e+06,'m^3/(mol*s)'), n=-0.00346841, Ea=(-2.96676,'kJ/mol'), T0=(1,'K'), Tmin=(250,'K'), Tmax=(1250,'K'), comment=\"\"\"Fitted to 20 data points; dA = *|/ 1.00166, dn = +|- 0.000225047, dEa = +|- 0.00100507 kJ/mol\"\"\"), Arrhenius(A=(2.03697e+06,'m^3/(mol*s)'), n=-0.0292964, Ea=(-2.80448,'kJ/mol'), T0=(1,'K'), Tmin=(250,'K'), Tmax=(1250,'K'), comment=\"\"\"Fitted to 20 data points; dA = *|/ 1.02194, dn = +|- 0.00293612, dEa = +|- 0.0131129 kJ/mol\"\"\"), Arrhenius(A=(3.14328e+06,'m^3/(mol*s)'), n=-0.0858879, Ea=(-2.45349,'kJ/mol'), T0=(1,'K'), Tmin=(250,'K'), Tmax=(1250,'K'), comment=\"\"\"Fitted to 20 data points; dA = *|/ 1.06894, dn = +|- 0.00901984, dEa = +|- 0.0402832 kJ/mol\"\"\"), Arrhenius(A=(5.27984e+06,'m^3/(mol*s)'), n=-0.153785, Ea=(-2.0467,'kJ/mol'), T0=(1,'K'), Tmin=(250,'K'), Tmax=(1250,'K'), comment=\"\"\"Fitted to 20 data points; dA = *|/ 1.14607, dn = +|- 0.0184475, dEa = +|- 0.0823876 kJ/mol\"\"\")])\n",
    "            nit_rates = PDepArrhenius(pressures=([0.01,0.1,1,10,100],'bar'), arrhenius=[Arrhenius(A=(1.70409e+26,'m^3/(mol*s)'), n=-8.08735, Ea=(16.1936,'kJ/mol'), T0=(1,'K'), Tmin=(250,'K'), Tmax=(1250,'K'), comment=\"\"\"Fitted to 20 data points; dA = *|/ 4.84581, dn = +|- 0.213524, dEa = +|- 0.953612 kJ/mol\"\"\"), Arrhenius(A=(2.85071e+31,'m^3/(mol*s)'), n=-9.75679, Ea=(17.3031,'kJ/mol'), T0=(1,'K'), Tmin=(250,'K'), Tmax=(1250,'K'), comment=\"\"\"Fitted to 20 data points; dA = *|/ 3.27964, dn = +|- 0.160704, dEa = +|- 0.717715 kJ/mol\"\"\"), Arrhenius(A=(5.48873e+32,'m^3/(mol*s)'), n=-10.2261, Ea=(14.0354,'kJ/mol'), T0=(1,'K'), Tmin=(250,'K'), Tmax=(1250,'K'), comment=\"\"\"Fitted to 20 data points; dA = *|/ 2.26894, dn = +|- 0.110856, dEa = +|- 0.49509 kJ/mol\"\"\"), Arrhenius(A=(1.54367e+32,'m^3/(mol*s)'), n=-10.1042, Ea=(10.2928,'kJ/mol'), T0=(1,'K'), Tmin=(250,'K'), Tmax=(1250,'K'), comment=\"\"\"Fitted to 20 data points; dA = *|/ 4.84154, dn = +|- 0.213405, dEa = +|- 0.953079 kJ/mol\"\"\"), Arrhenius(A=(1.03115e+31,'m^3/(mol*s)'), n=-9.76159, Ea=(7.3855,'kJ/mol'), T0=(1,'K'), Tmin=(250,'K'), Tmax=(1250,'K'), comment=\"\"\"Fitted to 20 data points; dA = *|/ 6.05837, dn = +|- 0.243741, dEa = +|- 1.08856 kJ/mol\"\"\")])\n",
    "        else:\n",
    "            oxy_rates = PDepArrhenius(pressures=([0.01,0.1,1,10,100],'bar'), arrhenius=[Arrhenius(A=(1.62989e+06,'m^3/(mol*s)'), n=-0.00028359, Ea=(-2.98905,'kJ/mol'), T0=(1,'K'), Tmin=(250,'K'), Tmax=(1250,'K'), comment=\"\"\"Fitted to 20 data points; dA = *|/ 1.00053, dn = +|- 7.1288e-05, dEa = +|- 0.000318377 kJ/mol\"\"\"), Arrhenius(A=(1.717e+06,'m^3/(mol*s)'), n=-0.00695881, Ea=(-2.94034,'kJ/mol'), T0=(1,'K'), Tmin=(250,'K'), Tmax=(1250,'K'), comment=\"\"\"Fitted to 20 data points; dA = *|/ 1.00333, dn = +|- 0.000450401, dEa = +|- 0.00201152 kJ/mol\"\"\"), Arrhenius(A=(2.57144e+06,'m^3/(mol*s)'), n=-0.0595939, Ea=(-2.61009,'kJ/mol'), T0=(1,'K'), Tmin=(250,'K'), Tmax=(1250,'K'), comment=\"\"\"Fitted to 20 data points; dA = *|/ 1.0457, dn = +|- 0.00604659, dEa = +|- 0.0270045 kJ/mol\"\"\"), Arrhenius(A=(6.46385e+06,'m^3/(mol*s)'), n=-0.179892, Ea=(-1.86694,'kJ/mol'), T0=(1,'K'), Tmin=(250,'K'), Tmax=(1250,'K'), comment=\"\"\"Fitted to 20 data points; dA = *|/ 1.1544, dn = +|- 0.0194269, dEa = +|- 0.0867618 kJ/mol\"\"\"), Arrhenius(A=(2.08917e+07,'m^3/(mol*s)'), n=-0.333554, Ea=(-0.950904,'kJ/mol'), T0=(1,'K'), Tmin=(250,'K'), Tmax=(1250,'K'), comment=\"\"\"Fitted to 20 data points; dA = *|/ 1.35986, dn = +|- 0.0415896, dEa = +|- 0.185742 kJ/mol\"\"\")])\n",
    "            nit_rates = PDepArrhenius(pressures=([0.01,0.1,1,10,100],'bar'), arrhenius=[Arrhenius(A=(3.40817e+26,'m^3/(mol*s)'), n=-8.08735, Ea=(16.1936,'kJ/mol'), T0=(1,'K'), Tmin=(250,'K'), Tmax=(1250,'K'), comment=\"\"\"Fitted to 20 data points; dA = *|/ 4.84581, dn = +|- 0.213524, dEa = +|- 0.953612 kJ/mol\"\"\"), Arrhenius(A=(5.70142e+31,'m^3/(mol*s)'), n=-9.75679, Ea=(17.3031,'kJ/mol'), T0=(1,'K'), Tmin=(250,'K'), Tmax=(1250,'K'), comment=\"\"\"Fitted to 20 data points; dA = *|/ 3.27964, dn = +|- 0.160704, dEa = +|- 0.717715 kJ/mol\"\"\"), Arrhenius(A=(1.09775e+33,'m^3/(mol*s)'), n=-10.2261, Ea=(14.0354,'kJ/mol'), T0=(1,'K'), Tmin=(250,'K'), Tmax=(1250,'K'), comment=\"\"\"Fitted to 20 data points; dA = *|/ 2.26894, dn = +|- 0.110856, dEa = +|- 0.49509 kJ/mol\"\"\"), Arrhenius(A=(3.08733e+32,'m^3/(mol*s)'), n=-10.1042, Ea=(10.2928,'kJ/mol'), T0=(1,'K'), Tmin=(250,'K'), Tmax=(1250,'K'), comment=\"\"\"Fitted to 20 data points; dA = *|/ 4.84154, dn = +|- 0.213405, dEa = +|- 0.953079 kJ/mol\"\"\"), Arrhenius(A=(2.0623e+31,'m^3/(mol*s)'), n=-9.76159, Ea=(7.3855,'kJ/mol'), T0=(1,'K'), Tmin=(250,'K'), Tmax=(1250,'K'), comment=\"\"\"Fitted to 20 data points; dA = *|/ 6.05837, dn = +|- 0.243741, dEa = +|- 1.08856 kJ/mol\"\"\")])\n",
    "    elif carbon_num == 6:\n",
    "        # atkinson 1997 with C6 compound\n",
    "        oxy_rates = PDepArrhenius(pressures=([0.01,0.1,1,10,100],'bar'), arrhenius=[Arrhenius(A=(1.68526e+06,'m^3/(mol*s)'), n=-0.00454971, Ea=(-2.95684,'kJ/mol'), T0=(1,'K'), Tmin=(250,'K'), Tmax=(1250,'K'), comment=\"\"\"Fitted to 20 data points; dA = *|/ 1.00246, dn = +|- 0.000332503, dEa = +|- 0.00148498 kJ/mol\"\"\"), Arrhenius(A=(2.30919e+06,'m^3/(mol*s)'), n=-0.0455447, Ea=(-2.69638,'kJ/mol'), T0=(1,'K'), Tmin=(250,'K'), Tmax=(1250,'K'), comment=\"\"\"Fitted to 20 data points; dA = *|/ 1.03179, dn = +|- 0.00423455, dEa = +|- 0.0189118 kJ/mol\"\"\"), Arrhenius(A=(5.47591e+06,'m^3/(mol*s)'), n=-0.158252, Ea=(-2.00092,'kJ/mol'), T0=(1,'K'), Tmin=(250,'K'), Tmax=(1250,'K'), comment=\"\"\"Fitted to 20 data points; dA = *|/ 1.13618, dn = +|- 0.0172748, dEa = +|- 0.0771506 kJ/mol\"\"\"), Arrhenius(A=(1.81413e+07,'m^3/(mol*s)'), n=-0.315039, Ea=(-1.05987,'kJ/mol'), T0=(1,'K'), Tmin=(250,'K'), Tmax=(1250,'K'), comment=\"\"\"Fitted to 20 data points; dA = *|/ 1.33061, dn = +|- 0.0386474, dEa = +|- 0.172602 kJ/mol\"\"\"), Arrhenius(A=(3.06698e+07,'m^3/(mol*s)'), n=-0.383874, Ea=(-0.652728,'kJ/mol'), T0=(1,'K'), Tmin=(250,'K'), Tmax=(1250,'K'), comment=\"\"\"Fitted to 20 data points; dA = *|/ 1.43924, dn = +|- 0.049266, dEa = +|- 0.220025 kJ/mol\"\"\")])\n",
    "        nit_rates = PDepArrhenius(pressures=([0.01,0.1,1,10,100],'bar'), arrhenius=[Arrhenius(A=(1.63185e+31,'m^3/(mol*s)'), n=-9.57746, Ea=(17.4858,'kJ/mol'), T0=(1,'K'), Tmin=(250,'K'), Tmax=(1250,'K'), comment=\"\"\"Fitted to 20 data points; dA = *|/ 3.59183, dn = +|- 0.173007, dEa = +|- 0.772661 kJ/mol\"\"\"), Arrhenius(A=(1.03591e+33,'m^3/(mol*s)'), n=-10.208, Ea=(14.6645,'kJ/mol'), T0=(1,'K'), Tmin=(250,'K'), Tmax=(1250,'K'), comment=\"\"\"Fitted to 20 data points; dA = *|/ 2.25274, dn = +|- 0.109886, dEa = +|- 0.490758 kJ/mol\"\"\"), Arrhenius(A=(4.61699e+32,'m^3/(mol*s)'), n=-10.1525, Ea=(10.8772,'kJ/mol'), T0=(1,'K'), Tmin=(250,'K'), Tmax=(1250,'K'), comment=\"\"\"Fitted to 20 data points; dA = *|/ 4.20469, dn = +|- 0.194323, dEa = +|- 0.867858 kJ/mol\"\"\"), Arrhenius(A=(2.60693e+31,'m^3/(mol*s)'), n=-9.79142, Ea=(7.63357,'kJ/mol'), T0=(1,'K'), Tmin=(250,'K'), Tmax=(1250,'K'), comment=\"\"\"Fitted to 20 data points; dA = *|/ 6.02038, dn = +|- 0.24289, dEa = +|- 1.08476 kJ/mol\"\"\"), Arrhenius(A=(1.41591e+31,'m^3/(mol*s)'), n=-9.71495, Ea=(6.87658,'kJ/mol'), T0=(1,'K'), Tmin=(250,'K'), Tmax=(1250,'K'), comment=\"\"\"Fitted to 20 data points; dA = *|/ 6.42849, dn = +|- 0.251764, dEa = +|- 1.12439 kJ/mol\"\"\")])\n",
    "\n",
    "    elif carbon_num == 5:\n",
    "        # atkinson 1997 with C5 compound\n",
    "        oxy_rates = PDepArrhenius(pressures=([0.01,0.1,1,10,100],'bar'), arrhenius=[Arrhenius(A=(1.62791e+06,'m^3/(mol*s)'), n=-0.000141688, Ea=(-2.99104,'kJ/mol'), T0=(1,'K'), Tmin=(250,'K'), Tmax=(1250,'K'), comment=\"\"\"Fitted to 20 data points; dA = *|/ 1.00026, dn = +|- 3.56474e-05, dEa = +|- 0.000159204 kJ/mol\"\"\"), Arrhenius(A=(1.67071e+06,'m^3/(mol*s)'), n=-0.00346841, Ea=(-2.96676,'kJ/mol'), T0=(1,'K'), Tmin=(250,'K'), Tmax=(1250,'K'), comment=\"\"\"Fitted to 20 data points; dA = *|/ 1.00166, dn = +|- 0.000225047, dEa = +|- 0.00100507 kJ/mol\"\"\"), Arrhenius(A=(2.03697e+06,'m^3/(mol*s)'), n=-0.0292964, Ea=(-2.80448,'kJ/mol'), T0=(1,'K'), Tmin=(250,'K'), Tmax=(1250,'K'), comment=\"\"\"Fitted to 20 data points; dA = *|/ 1.02194, dn = +|- 0.00293612, dEa = +|- 0.0131129 kJ/mol\"\"\"), Arrhenius(A=(3.14328e+06,'m^3/(mol*s)'), n=-0.0858879, Ea=(-2.45349,'kJ/mol'), T0=(1,'K'), Tmin=(250,'K'), Tmax=(1250,'K'), comment=\"\"\"Fitted to 20 data points; dA = *|/ 1.06894, dn = +|- 0.00901984, dEa = +|- 0.0402832 kJ/mol\"\"\"), Arrhenius(A=(5.27984e+06,'m^3/(mol*s)'), n=-0.153785, Ea=(-2.0467,'kJ/mol'), T0=(1,'K'), Tmin=(250,'K'), Tmax=(1250,'K'), comment=\"\"\"Fitted to 20 data points; dA = *|/ 1.14607, dn = +|- 0.0184475, dEa = +|- 0.0823876 kJ/mol\"\"\")])\n",
    "        nit_rates = PDepArrhenius(pressures=([0.01,0.1,1,10,100],'bar'), arrhenius=[Arrhenius(A=(1.70409e+26,'m^3/(mol*s)'), n=-8.08735, Ea=(16.1936,'kJ/mol'), T0=(1,'K'), Tmin=(250,'K'), Tmax=(1250,'K'), comment=\"\"\"Fitted to 20 data points; dA = *|/ 4.84581, dn = +|- 0.213524, dEa = +|- 0.953612 kJ/mol\"\"\"), Arrhenius(A=(2.85071e+31,'m^3/(mol*s)'), n=-9.75679, Ea=(17.3031,'kJ/mol'), T0=(1,'K'), Tmin=(250,'K'), Tmax=(1250,'K'), comment=\"\"\"Fitted to 20 data points; dA = *|/ 3.27964, dn = +|- 0.160704, dEa = +|- 0.717715 kJ/mol\"\"\"), Arrhenius(A=(5.48873e+32,'m^3/(mol*s)'), n=-10.2261, Ea=(14.0354,'kJ/mol'), T0=(1,'K'), Tmin=(250,'K'), Tmax=(1250,'K'), comment=\"\"\"Fitted to 20 data points; dA = *|/ 2.26894, dn = +|- 0.110856, dEa = +|- 0.49509 kJ/mol\"\"\"), Arrhenius(A=(1.54367e+32,'m^3/(mol*s)'), n=-10.1042, Ea=(10.2928,'kJ/mol'), T0=(1,'K'), Tmin=(250,'K'), Tmax=(1250,'K'), comment=\"\"\"Fitted to 20 data points; dA = *|/ 4.84154, dn = +|- 0.213405, dEa = +|- 0.953079 kJ/mol\"\"\"), Arrhenius(A=(1.03115e+31,'m^3/(mol*s)'), n=-9.76159, Ea=(7.3855,'kJ/mol'), T0=(1,'K'), Tmin=(250,'K'), Tmax=(1250,'K'), comment=\"\"\"Fitted to 20 data points; dA = *|/ 6.05837, dn = +|- 0.243741, dEa = +|- 1.08856 kJ/mol\"\"\")])\n",
    "        \n",
    "    else:\n",
    "        raise AttributeError(\"heavy atom number {} is not currently supported. \"\\\n",
    "                            'Obtain values from nitrate branching ratio notebook.'\\\n",
    "                            ''.format(heavy_atom_num))\n",
    "    reactions_rmg[0].kinetics = oxy_rates\n",
    "    reactions_rmg[2].kinetics = nit_rates\n",
    "    return reactions_rmg"
   ]
  },
  {
   "cell_type": "code",
   "execution_count": 53,
   "metadata": {},
   "outputs": [],
   "source": [
    "def get_solution_object_changed_rates(rxn_change_rate, species_change_enthalpy, target_rate, \n",
    "                                      directory = '../data/20180102_current_chemkin_cantera_files/',\n",
    "                                      chemkin_file_name = 'gamma_i_butanol_high_p.inp',\n",
    "                                      species_dictionary_name = 'butanol_species_dictionary.txt',\n",
    "                                      adjust_NO_rates=False, heavy_atom_num=5,\n",
    "                                      other_functional_groups=None):\n",
    "    \"\"\"\n",
    "    This method returns a cantera solution object, given a target isomerization rate\n",
    "    `target rate` which has units of inverse seconds. The reaction barrier height is modified\n",
    "    by `alpha` which uses Evany-Polanyi relationship. Species which don't have the bond\n",
    "    whose strength is changed, listed as `species_change_enthalpy` get a change in enthalpy\n",
    "    equal to bond change.\n",
    "    A cantera solution object is returned.\n",
    "    \"\"\"\n",
    "    \n",
    "    # import chemkin in RMG\n",
    "    species_rmg, reactions_rmg = load_chemkin_file(os.path.join(directory,chemkin_file_name),\n",
    "                                                dictionary_path=os.path.join(directory,species_dictionary_name),\n",
    "                                                use_chemkin_names=True)\n",
    "    for rxn in reactions_rmg:\n",
    "        if str(rxn) == rxn_change_rate:\n",
    "            # si is in J/mol\n",
    "            A = rxn.kinetics.A.value_si\n",
    "            n = rxn.kinetics.n.value_si\n",
    "            \n",
    "            target_Ea = -8.314 * 298.15 * np.log(target_rate/A/(298.15**n))\n",
    "            Ea_change = target_Ea - rxn.kinetics.Ea.value_si\n",
    "            rxn.kinetics.Ea.value_si = target_Ea\n",
    "    # modify rate constants in rmg\n",
    "    for species in species_rmg:\n",
    "        if species.label in species_change_enthalpy:\n",
    "            species.thermo.change_base_enthalpy(Ea_change)\n",
    "    if adjust_NO_rates:\n",
    "        reactions_rmg = adjust_NO_rates_to_cnum(reactions_rmg, heavy_atom_num, other_functional_groups)\n",
    "    # convert to solution object\n",
    "    species_cantera = []\n",
    "    for species in species_rmg:\n",
    "        species_cantera.append(species.to_cantera())\n",
    "    reactions_cantera = []\n",
    "    for rxn in reactions_rmg:\n",
    "        reactions_cantera.append(rxn.to_cantera())\n",
    "    return ct.Solution(thermo='IdealGas', kinetics='GasKinetics',\n",
    "                           species=species_cantera, \n",
    "                           reactions=reactions_cantera)\n"
   ]
  },
  {
   "cell_type": "code",
   "execution_count": 54,
   "metadata": {},
   "outputs": [],
   "source": [
    "temperatures = [298.15]\n",
    "pressures = [1e5]"
   ]
  },
  {
   "cell_type": "code",
   "execution_count": 55,
   "metadata": {},
   "outputs": [],
   "source": [
    "NO_values = np.logspace(-12,-6,50)"
   ]
  },
  {
   "cell_type": "code",
   "execution_count": 56,
   "metadata": {},
   "outputs": [],
   "source": [
    "reaction_index=None"
   ]
  },
  {
   "cell_type": "code",
   "execution_count": 57,
   "metadata": {},
   "outputs": [
    {
     "name": "stderr",
     "output_type": "stream",
     "text": [
      "/home/mark/anaconda3/envs/rmg_env3/lib/python3.7/site-packages/ipykernel_launcher.py:17: DeprecationWarning: The default dtype for empty Series will be 'object' instead of 'float64' in a future version. Specify a dtype explicitly to silence this warning.\n"
     ]
    }
   ],
   "source": [
    "simulation_output = []\n",
    "for group, target_rate, carbon_number,other_fg in atm_compounds_to_rates:\n",
    "    solution = get_solution_object_changed_rates(rxn_change_rate=rxn_change_rate, \n",
    "                                     species_change_enthalpy=species_change_enthalpy,\n",
    "                                     target_rate=target_rate,\n",
    "                                      directory = '../data/mechanism/',\n",
    "                                      chemkin_file_name = 'butanol_high_p.inp',\n",
    "                                      species_dictionary_name = 'species_dictionary_butanol.txt',\n",
    "                                        adjust_NO_rates = True, heavy_atom_num=carbon_number,\n",
    "                                        other_functional_groups=other_fg)\n",
    "    rxn_index = solution.reaction_equations().index('gRO2 <=> gQOOHa')\n",
    "    for NO in NO_values:\n",
    "        initialMoleFractions={\n",
    "                    \"NO\": NO,\n",
    "                    \"HO2\": 1e-11,\n",
    "                    starting_alkyl_radical: 1e-17,\n",
    "                    'O2': 0.21,\n",
    "                    \"N2\": 0.79,\n",
    "                }\n",
    "        for temperature in temperatures:\n",
    "            for pressure in pressures:\n",
    "                conditions = temperature, pressure, initialMoleFractions\n",
    "                solution.TPX = conditions        \n",
    "\n",
    "                series = simulate_one_condition(solution, conversion_species=conversion_species,)\n",
    "                series['R group'] = group\n",
    "                series['NO (frac)'] = NO\n",
    "                series['temp (K)'] = temperature\n",
    "                series['pres (Pa)'] = pressure\n",
    "                series['qooh enthalpy (J/kmol)'] = solution.species(solution.species_index('gQOOHa')).thermo.h(298)\n",
    "                series['isom rate (s^-1)'] = solution.forward_rate_constants[rxn_index]\n",
    "                simulation_output.append(series)"
   ]
  },
  {
   "cell_type": "code",
   "execution_count": 58,
   "metadata": {},
   "outputs": [],
   "source": [
    "simulation_output = pd.DataFrame(simulation_output)"
   ]
  },
  {
   "cell_type": "code",
   "execution_count": 59,
   "metadata": {},
   "outputs": [],
   "source": [
    "branching_ratio_data = []\n",
    "for index in simulation_output.index:\n",
    "    plotted_element_values = []\n",
    "    for e in species_to_plot:\n",
    "        #print(e)\n",
    "        if isinstance(e, list):\n",
    "            plotted_element_values.append(simulation_output.loc[index,e].sum())\n",
    "        else: \n",
    "            plotted_element_values.append(simulation_output.loc[index,e])\n",
    "        #print(plotted_element_values[-1])\n",
    "    branching_ratio_data.append(dict(zip(in_legend,plotted_element_values)))\n",
    "branching_ratio_data = pd.DataFrame(branching_ratio_data)"
   ]
  },
  {
   "cell_type": "code",
   "execution_count": 60,
   "metadata": {},
   "outputs": [],
   "source": [
    "\n",
    "branching_ratio_data['NO'] = simulation_output['NO (frac)']\n",
    "branching_ratio_data['R'] = simulation_output['R group']\n"
   ]
  },
  {
   "cell_type": "code",
   "execution_count": 61,
   "metadata": {},
   "outputs": [],
   "source": [
    "plot_data = branching_ratio_data.pivot(index = 'NO', columns = 'R', values = 'isomerization')"
   ]
  },
  {
   "cell_type": "code",
   "execution_count": 62,
   "metadata": {},
   "outputs": [],
   "source": [
    "plot_data=plot_data[['H','CH$_3$','OH','C=C']]"
   ]
  },
  {
   "cell_type": "code",
   "execution_count": 63,
   "metadata": {},
   "outputs": [
    {
     "data": {
      "image/png": "[encoded data removed]",
      "text/plain": [
       "<Figure size 432x288 with 1 Axes>"
      ]
     },
     "metadata": {},
     "output_type": "display_data"
    }
   ],
   "source": [
    "if not multi_panel:\n",
    "    f, ax = plt.subplots()\n",
    "else:\n",
    "    ax = axes[0][0]\n",
    "plot_data.plot(ax=ax, color=colors,logx=True, legend=False)\n",
    "ax.set_ylabel('fraction isomerization')\n",
    "ax.set_xlabel('NO fraction')\n",
    "ax.annotate('H',(1.3e-12,0.04), color=colors[0], verticalalignment='center',horizontalalignment='left')\n",
    "ax.annotate('CH$_3$',(1.3e-12,0.61), color=colors[1], verticalalignment='center',horizontalalignment='left')\n",
    "ax.annotate('OH',(1.3e-12,0.88), color=colors[2], verticalalignment='center',horizontalalignment='left')\n",
    "ax.annotate('C=C',(1.3e-12,0.96), color=colors[3], verticalalignment='center',horizontalalignment='left')\n",
    "sns.despine()"
   ]
  },
  {
   "cell_type": "code",
   "execution_count": 24,
   "metadata": {
    "scrolled": true
   },
   "outputs": [],
   "source": [
    "if not multi_panel:\n",
    "    f.savefig(os.path.join(image_path,'isomerization_with_NO_and_structure.svg'),bbox_inches='tight')"
   ]
  },
  {
   "cell_type": "markdown",
   "metadata": {},
   "source": [
    "# make HOx production plot"
   ]
  },
  {
   "cell_type": "code",
   "execution_count": 67,
   "metadata": {},
   "outputs": [],
   "source": [
    "functional_groups = ['H','CH$_3$','OH','C=C']"
   ]
  },
  {
   "cell_type": "code",
   "execution_count": 68,
   "metadata": {},
   "outputs": [],
   "source": [
    "radical_production_series_together = radical_production_table['Hox_together']\n",
    "radical_production_series = radical_production_table['Hox_split']"
   ]
  },
  {
   "cell_type": "code",
   "execution_count": 69,
   "metadata": {
    "scrolled": true
   },
   "outputs": [
    {
     "data": {
      "image/png": "[encoded data removed]",
      "text/plain": [
       "<Figure size 432x288 with 1 Axes>"
      ]
     },
     "metadata": {},
     "output_type": "display_data"
    }
   ],
   "source": [
    "if not multi_panel:\n",
    "    f, ax = plt.subplots()\n",
    "else:\n",
    "    ax = axes[1][0]\n",
    "ax.set_xscale('log')\n",
    "\n",
    "for index, f_name in enumerate(functional_groups):\n",
    "    one_compound_br = branching_ratio_data[branching_ratio_data.R == f_name].copy()\n",
    "    one_compound_br.index = NO_values\n",
    "    del one_compound_br['R']\n",
    "    radical_production = (radical_production_series * one_compound_br).sum(1)\n",
    "    radical_production_together = (radical_production_series_together * one_compound_br).sum(1)\n",
    "    ax.plot(radical_production.index, radical_production.values, color=colors[index], linestyle = '--')\n",
    "    ax.plot(radical_production.index, radical_production_together.values, color=colors[index])\n",
    "    # annotate bottom lines\n",
    "    y_cross = radical_production_together[NO_values[2+1*index]]\n",
    "    if index < 3:\n",
    "        va = 'top'\n",
    "        va_adjust = -0.05\n",
    "    else:\n",
    "        va = 'bottom'\n",
    "        va_adjust = 0.05\n",
    "    ax.annotate(f_name,(NO_values[1+3*index], y_cross + va_adjust), color=colors[index], verticalalignment=va,horizontalalignment='left')\n",
    "    # annotate top lines\n",
    "    y_cross = radical_production[NO_values[10+5*index]]\n",
    "    ax.annotate(f_name,(NO_values[10+5*index]*.9, y_cross -.05), color=colors[index], verticalalignment='bottom',horizontalalignment='left')\n",
    "ax.annotate('no ROOH photolysis',(1e-12,-1), color=(0.5,0.5,0.5), verticalalignment='top',horizontalalignment='left')\n",
    "ax.annotate('ROOH photolysis',(1e-12,3.1), color=(0.5,0.5,0.5), verticalalignment='bottom',horizontalalignment='left')\n",
    "ax.set_ylabel('HOx produced')\n",
    "ax.set_xlabel('NO fraction')\n",
    "ax.set_ylim((-1.4,3.5))\n",
    "sns.despine()"
   ]
  },
  {
   "cell_type": "code",
   "execution_count": 28,
   "metadata": {
    "scrolled": true
   },
   "outputs": [],
   "source": [
    "if not multi_panel:\n",
    "    f.savefig(os.path.join(image_path,'HOx_with_temp_and_structure.svg'),bbox_inches='tight')"
   ]
  },
  {
   "cell_type": "markdown",
   "metadata": {},
   "source": [
    "## make combustion isomerization plot"
   ]
  },
  {
   "cell_type": "code",
   "execution_count": 29,
   "metadata": {},
   "outputs": [],
   "source": [
    "colors = sns.color_palette(\"YlOrRd_d\",n_colors=3)\n",
    "colors.reverse()"
   ]
  },
  {
   "cell_type": "code",
   "execution_count": 30,
   "metadata": {},
   "outputs": [],
   "source": [
    "butanol_vars = {\n",
    "    'input_path': directory,\n",
    "    \"conversion_species\": ['gR', 'gRO2'],\n",
    "    \"starting_alkyl_radical\": 'gR',\n",
    "    # 8 cycles\n",
    "    \"species_to_plot\": ['OOCC(CO)C', # hydroperoxy\n",
    "                       ['[O]CC(CO)C','galdol'],  # NO reaction\n",
    "                       'OOCC(C=O)C', # isom\n",
    "                       ['galdoxy','O=CC(C)C=O'], # water formation\n",
    "                       ['CC=C','propene3ol'], # r decomp\n",
    "                        'NO2OCC(CO)C', # nitrate formation\n",
    "                       'galkene', # HO2 alkene\n",
    "                       ['disub_c4ether','disub_epoxy','monosub_c4ether'], # cyclic ether\n",
    "                       ['OOCC(C(O[O])O)C','O=CC(C)C(OO)O','OOCC(CO)CO[O]','OCC(O[O])(COO)C','O=CC(CO)COO','OCC(OO)(C=O)C'],# chain oxidation\n",
    "                      ],\n",
    "    \"in_legend\": ['hydroperoxy', 'alkoxy','isomerization + HO2 production','water loss','R decomposition','nitrate','cyclic ether','HO2 elimination'],\n",
    "    'image_path': overall_image_path,\n",
    "    'reactions_to_remove': None,\n",
    "}\n",
    "butanol_vars['cantera_input_file'] =  os.path.join(butanol_vars['input_path'],'gamma_i_butanol.cti')\n",
    "\n",
    "\n",
    "propane_vars = {\n",
    "    'input_path': directory,\n",
    "    'conversion_species': ['npropyl','npropyloo'],\n",
    "    'starting_alkyl_radical': 'npropyl',\n",
    "    'species_to_plot': ['npropylooh',\n",
    "                       ['npropyloxy','propanal','CH3CH2OO','CH3CH2OOH'], #the c2 comes from breaking of npropyloxy\n",
    "                       ['prod_1','CO'], # 1 CO produced by the khp cycle\n",
    "                       'C3H6',\n",
    "                       'C2H4',\n",
    "                       'npropylONO2',\n",
    "                       'propoxide',\n",
    "                       'npropanedihydroperoxy',\n",
    "                       ['prod_2','acrolein']],\n",
    "    'in_legend': ['hydroperoxy', 'alkoxy','isomerization','HO2 elimination', 'R decomposition','nitrate','cyclic ether','isomerization + hydroperoxide', 'isomerization + HO2 production'],\n",
    "    'image_path': overall_image_path,\n",
    "    'reactions_to_remove': ['CH3CH2OO + NO <=> NO2 + ethoxy',\n",
    "                       'C2H4 + H (+M) <=> C2H5 (+M)',\n",
    "                       '2 C2H4 <=> C2H3 + C2H5',\n",
    "                       'C2H5 + CH3 <=> C2H4 + CH4',\n",
    "                       'C2H5 + H <=> C2H4 + H2',\n",
    "                       'C2H5 + O2 <=> C2H4 + HO2',\n",
    "                       'C2H5 + O2 <=> C2H4 + HO2',\n",
    "                       'C2H5 + allyl <=> C2H4 + C3H6',\n",
    "                       'CH3CH2OO <=> C2H4 + HO2',\n",
    "                       'CH2CH2OOH <=> CH3CH2OO',\n",
    "                       'C2H5 + O2 <=> CH2CH2OOH',\n",
    "                       'npropyl <=> C3H6 + H',\n",
    "                       'OH + propanal <=> H2O + propionyl',\n",
    "                       'HO2 + propanal <=> H2O2 + propionyl',\n",
    "\n",
    "                      ]\n",
    "}\n",
    "propane_vars['cantera_input_file'] =  os.path.join(propane_vars['input_path'],'merchant-full_w_NO.cti')\n",
    "\n",
    "butane_vars = {\n",
    "    'input_path': directory,\n",
    "    \"conversion_species\": ['PC4H9', 'PC4H9O2'],\n",
    "    \"starting_alkyl_radical\": 'PC4H9',\n",
    "    # 8 cycles\n",
    "    \"species_to_plot\": ['PC4H9O2H', # hydroperoxy\n",
    "                       ['PC4H9O','NC3H7CHO'],  # NO reaction\n",
    "                       ['C4H8OOH1-3', 'C4H8OOH1-4','C4H8OOH1-3O2','C4H8OOH1-4O2','C4H71-2,4OOH','C4H72-1,3OOH', 'C4H72-1,4OOH','NC4KET13', 'NC4KET14','NC4KET12' ], # isom\n",
    "                       ['C4H71-4OOH', 'C4H72-1OOH','C4H71-3OOH'], # isom producing first HO2\n",
    "                       ['C4H7O1-2OOH-4','C4H7O1-4OOH-2', 'C4H7O1-2OOH-3', 'C4H7O2-3OOH-1', 'C4H7O1-3OOH-4', ], # ether OOH compoiund (produces 2 radicals)\n",
    "                        ['C3H6','C2H4'], # r decomp\n",
    "                        'PC4H9ONO2', # nitrate formation\n",
    "                       'C4H8-1', # HO2 alkene\n",
    "                       ['C4H8O1-2','C4H8O1-3','C4H8O1-4',], # cyclic ether\n",
    "                       ],\n",
    "    \"reactions_to_remove\":['C2H5 + O2 <=> C2H4 + HO2', # separate C2H5 and C2H4\n",
    "                           'C2H5 + O2 <=> C2H4O2H',\n",
    "                           'C2H5 + O2 <=> C2H5O2',\n",
    "                           'C2H5 + O2 <=> CH3CHO + OH',\n",
    "                           'C2H4 + H (+M) <=> C2H5 (+M)',\n",
    "                           'C4H72-1OOH <=> C4H7O2-1 + OH', #alkeneOOH decomp\n",
    "                           'C4H72-1OOH => C3H5-S + CH2O + OH',\n",
    "                           'C4H72-1OOH <=> H2O + SC3H5CHO',\n",
    "                           'C4H71-3OOH => CH3CHO + C2H3 + OH',\n",
    "                           'C4H71-4OOH <=> C4H7O1-4 + OH',\n",
    "                           'NC4KET14 => CH2CH2CHO + CH2O + OH', #prevent khp decomposition\n",
    "                           'NC4KET13 => CH2CHO + CH3CHO + OH',             \n",
    "                          ],\n",
    "    \"in_legend\": ['hydroperoxy', 'alkoxy','isomerization','isomerization + HO2 production','isomerization + cyclic ether','R decompisition','nitrate','HO2 elimination','cyclic ether'],\n",
    "    'image_path': overall_image_path,\n",
    "}\n",
    "butane_vars['cantera_input_file'] =  os.path.join(butanol_vars['input_path'],'aramcomech2_modified2.cti')"
   ]
  },
  {
   "cell_type": "code",
   "execution_count": 31,
   "metadata": {},
   "outputs": [],
   "source": [
    "temperatures = np.linspace(300,900)\n",
    "pressure = 1e5\n",
    "compounds = ['OH', 'H', 'CH$_3$']"
   ]
  },
  {
   "cell_type": "code",
   "execution_count": 32,
   "metadata": {},
   "outputs": [
    {
     "name": "stderr",
     "output_type": "stream",
     "text": [
      "/home/mark/anaconda3/envs/rmg_env3/lib/python3.7/site-packages/ipykernel_launcher.py:17: DeprecationWarning: The default dtype for empty Series will be 'object' instead of 'float64' in a future version. Specify a dtype explicitly to silence this warning.\n"
     ]
    }
   ],
   "source": [
    "plot_data_all = {}\n",
    "for to_plot in compounds:\n",
    "    if to_plot == 'OH':\n",
    "        variables = butanol_vars\n",
    "    elif to_plot == 'H':\n",
    "        variables = propane_vars\n",
    "    elif to_plot == 'CH$_3$':\n",
    "        variables = butane_vars\n",
    "    else:\n",
    "        raise ValueError('{} is not a supported molecule'.format(to_plot))\n",
    "\n",
    "    cantera_input_file = variables['cantera_input_file']\n",
    "    species_to_plot = variables['species_to_plot']\n",
    "    starting_alkyl_radical = variables['starting_alkyl_radical']\n",
    "    in_legend = variables['in_legend']\n",
    "    image_path = variables['image_path']\n",
    "    conversion_species = variables['conversion_species']\n",
    "    reactions_to_remove = variables['reactions_to_remove']\n",
    "\n",
    "    # get expected products\n",
    "    expected_products = []\n",
    "    for item in species_to_plot:\n",
    "        if isinstance(item,list):\n",
    "            for item2 in item:\n",
    "                expected_products.append(item2)\n",
    "        else:\n",
    "            expected_products.append(item)\n",
    "\n",
    "    branching_ratio_data = pd.DataFrame()\n",
    "    product_data = pd.DataFrame()\n",
    "    initialMoleFractions={\n",
    "                    \"NO\": 0,\n",
    "                    \"HO2\": 1e-11,\n",
    "                    starting_alkyl_radical: 1e-17,\n",
    "                    'O2': 0.21,\n",
    "                    \"N2\": 0.79,\n",
    "                }\n",
    "    solution = ctt.create_mechanism(cantera_input_file,remove_reaction_equations=reactions_to_remove)\n",
    "    \n",
    "    for temperature in temperatures:\n",
    "        # setup solution\n",
    "        conditions = temperature, pressure, initialMoleFractions\n",
    "        solution.TPX = conditions        \n",
    "\n",
    "        # run simulation\n",
    "        series = simulate_one_condition(solution, conversion_species=conversion_species,)\n",
    "\n",
    "        # get branching ratio\n",
    "        plotted_element_values = []\n",
    "        for e in species_to_plot:\n",
    "            if isinstance(e, list):\n",
    "                plotted_element_values.append(series[e].sum())\n",
    "            else: plotted_element_values.append(series[e])\n",
    "        branching_ratio_data[temperature] = pd.Series(dict(zip(in_legend,plotted_element_values)))\n",
    "        product_data[temperature] = series\n",
    "    plot_data_all[to_plot] = branching_ratio_data.T"
   ]
  },
  {
   "cell_type": "code",
   "execution_count": 33,
   "metadata": {},
   "outputs": [
    {
     "data": {
      "image/png": "[encoded data removed]",
      "text/plain": [
       "<Figure size 432x288 with 1 Axes>"
      ]
     },
     "metadata": {},
     "output_type": "display_data"
    }
   ],
   "source": [
    "if not multi_panel:\n",
    "    f, ax = plt.subplots()\n",
    "else:\n",
    "    ax = axes[0][1]\n",
    "vlocation = ['bottom', 'top', 'bottom']\n",
    "hlocation = ['left', 'right', 'left']\n",
    "for index, (name, branching_data) in enumerate(plot_data_all.items()):\n",
    "    try:\n",
    "        branching_data['isomerization'].plot(ax=ax, color=colors[index])\n",
    "        y_cross = branching_data.loc[temperatures[20+4*index],'isomerization']\n",
    "    except KeyError:\n",
    "        branching_data['isomerization + HO2 production'].plot(ax=ax, color=colors[index])\n",
    "        y_cross = branching_data.loc[temperatures[20+4*index],'isomerization + HO2 production']\n",
    "    ax.annotate(name,(temperatures[20+4*index],y_cross), color=colors[index], verticalalignment=vlocation[index],horizontalalignment=hlocation[index])\n",
    "ax.set_ylabel('fraction isomerization')\n",
    "ax.set_xlabel('Temperature (K)')\n",
    "sns.despine()"
   ]
  },
  {
   "cell_type": "code",
   "execution_count": 34,
   "metadata": {
    "scrolled": true
   },
   "outputs": [],
   "source": [
    "if not multi_panel:\n",
    "    f.savefig(os.path.join(image_path,'isomerization_with_temp_and_structure.svg'),bbox_inches='tight')"
   ]
  },
  {
   "cell_type": "markdown",
   "metadata": {},
   "source": [
    "# get combustion OH production"
   ]
  },
  {
   "cell_type": "code",
   "execution_count": 35,
   "metadata": {},
   "outputs": [],
   "source": [
    "radical_production_series = radical_production_table['OH_split']"
   ]
  },
  {
   "cell_type": "code",
   "execution_count": 36,
   "metadata": {},
   "outputs": [
    {
     "data": {
      "image/png": "[encoded data removed]",
      "text/plain": [
       "<Figure size 432x288 with 1 Axes>"
      ]
     },
     "metadata": {},
     "output_type": "display_data"
    }
   ],
   "source": [
    "if not multi_panel:\n",
    "    f, ax = plt.subplots()\n",
    "else:\n",
    "    ax = axes[1][1]\n",
    "ax.plot([300, 900], [1,1], linestyle='--', color=[.5,.5,.5], )\n",
    "ax.annotate('OH generation', (310,1.05), va='bottom')\n",
    "ax.annotate('OH loss', (310,1-.05), va='top')\n",
    "vlocation = ['bottom', 'top', 'bottom']\n",
    "hlocation = ['left', 'right', 'left']\n",
    "for index, (name, data) in enumerate(plot_data_all.items()):\n",
    "    radical_production = (radical_production_series * data).sum(1)\n",
    "    radical_production.plot(ax=ax, color=colors[index])\n",
    "    y_cross = radical_production[temperatures[20+4*index]]\n",
    "    ax.annotate(name,(temperatures[20+4*index],y_cross), color=colors[index], verticalalignment=vlocation[index],horizontalalignment=hlocation[index])\n",
    "ax.set_ylabel('OH produced')\n",
    "ax.set_xlabel('Temperature (K)')\n",
    "ax.set_yticks([0,1,2,3])\n",
    "\n",
    "sns.despine()"
   ]
  },
  {
   "cell_type": "code",
   "execution_count": 37,
   "metadata": {
    "scrolled": true
   },
   "outputs": [],
   "source": [
    "if not multi_panel:\n",
    "    f.savefig(os.path.join(image_path,'OH_with_temp_and_structure.svg'),bbox_inches='tight')"
   ]
  },
  {
   "cell_type": "code",
   "execution_count": null,
   "metadata": {},
   "outputs": [],
   "source": []
  }
 ],
 "metadata": {
  "anaconda-cloud": {},
  "kernelspec": {
   "display_name": "Python 3",
   "language": "python",
   "name": "python3"
  },
  "language_info": {
   "codemirror_mode": {
    "name": "ipython",
    "version": 3
   },
   "file_extension": ".py",
   "mimetype": "text/x-python",
   "name": "python",
   "nbconvert_exporter": "python",
   "pygments_lexer": "ipython3",
   "version": "3.7.7"
  },
  "toc": {
   "colors": {
    "hover_highlight": "#DAA520",
    "running_highlight": "#FF0000",
    "selected_highlight": "#FFD700"
   },
   "moveMenuLeft": true,
   "nav_menu": {
    "height": "504px",
    "width": "254px"
   },
   "navigate_menu": true,
   "number_sections": true,
   "sideBar": true,
   "threshold": 4,
   "toc_cell": false,
   "toc_position": {
    "height": "747px",
    "left": "0px",
    "right": "1468px",
    "top": "43px",
    "width": "302px"
   },
   "toc_section_display": "block",
   "toc_window_display": true
  }
 },
 "nbformat": 4,
 "nbformat_minor": 4
}
