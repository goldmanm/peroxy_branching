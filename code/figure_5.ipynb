{
 "cells": [
  {
   "cell_type": "markdown",
   "metadata": {},
   "source": [
    "This notebook produces figure 5."
   ]
  },
  {
   "cell_type": "code",
   "execution_count": 1,
   "metadata": {},
   "outputs": [],
   "source": [
    "import os\n",
    "\n",
    "import numpy as np\n",
    "import pandas as pd\n",
    "from matplotlib import pyplot as plt\n",
    "import matplotlib as mpl\n",
    "import seaborn as sns\n",
    "%matplotlib inline\n",
    "\n",
    "import simulation as ctt\n",
    "from rmgpy.chemkin import read_thermo_entry"
   ]
  },
  {
   "cell_type": "code",
   "execution_count": 2,
   "metadata": {},
   "outputs": [],
   "source": [
    "sns.set_style('white')\n",
    "sns.set_style('ticks')\n",
    "sns.set_context('paper',font_scale=1.5)"
   ]
  },
  {
   "cell_type": "code",
   "execution_count": 3,
   "metadata": {},
   "outputs": [],
   "source": [
    "input_path = '../data/mechanism'\n",
    "image_path = '../results/'"
   ]
  },
  {
   "cell_type": "markdown",
   "metadata": {},
   "source": [
    "# plot paper figure"
   ]
  },
  {
   "cell_type": "code",
   "execution_count": 4,
   "metadata": {},
   "outputs": [],
   "source": [
    "plot_OH = False"
   ]
  },
  {
   "cell_type": "code",
   "execution_count": 6,
   "metadata": {},
   "outputs": [],
   "source": [
    "generalized_reactions = [['npropyloo + ROO <=> npropyloxy + RO + O2', ['2 npropyloo <=> O2 + 2 npropyloxy',\n",
    "                                                                      'CH3CH2OO + npropyloo <=> O2 + ethoxy + npropyloxy',\n",
    "                                                                     'CH3OO + npropyloo <=> CH3O + O2 + npropyloxy',\n",
    "                                                                      'acetylperoxy + npropyloo <=> O2 + acetyloxy + npropyloxy',\n",
    "                                                                     'ipropyloo + npropyloo <=> O2 + ipropyloxy + npropyloxy',]],\n",
    "                         ['npropyloo + R <=> npropyloxy + RO', ['C2H5 + npropyloo <=> ethoxy + npropyloxy',\n",
    "                                                               'CH3 + npropyloo <=> CH3O + npropyloxy',\n",
    "                                                              'allyl + npropyloo <=> allyloxy + npropyloxy',\n",
    "                                                               'ipropyl + npropyloo <=> ipropyloxy + npropyloxy',\n",
    "                                                              'npropyl + npropyloo <=> 2 npropyloxy',]],\n",
    "                         ['npropyloo + RH <=> npropylooh + R', ['C2H4 + npropyloo <=> C2H3 + npropylooh',\n",
    "                                                               'C2H6 + npropyloo <=> C2H5 + npropylooh',\n",
    "                                                               'C3H6 + npropyloo <=> allyl + npropylooh',\n",
    "                                                               'C3H8 + npropyloo <=> ipropyl + npropylooh',\n",
    "                                                               'C3H8 + npropyloo <=> npropyl + npropylooh',\n",
    "                                                               'CH2O + npropyloo <=> HCO + npropylooh',\n",
    "                                                               'CH3OH + npropyloo <=> CH2OH + npropylooh',\n",
    "                                                               'CH4 + npropyloo <=> CH3 + npropylooh',\n",
    "                                                               'H2 + npropyloo <=> H + npropylooh',\n",
    "                                                               'acetaldehyde + npropyloo <=> acetyl + npropylooh',\n",
    "                                                               'acrolein + npropyloo <=> CH2CHCO + npropylooh',\n",
    "                                                               'npropyloo + propanal <=> npropylooh + propionyl',\n",
    "                                                               'HO2 + npropyloo <=> O2 + npropylooh',]],\n",
    "                         ['other', ['npropyloo + R <=> npropyloxy + RO', \n",
    "                                    'npropyloo <=> OH + propoxide',\n",
    "                                    'npropyloo <=> QOOH_2',\n",
    "                                    'NO + npropyloo <=> npropylONO2',]],]\n",
    "# sorted by colors\n",
    "colorblind_palette = sns.color_palette('colorblind')\n",
    "ordered_palette = [colorblind_palette[4],colorblind_palette[8],colorblind_palette[3], colorblind_palette[6], colorblind_palette[2], colorblind_palette[7]]\n",
    "sns.set_palette(ordered_palette)"
   ]
  },
  {
   "cell_type": "code",
   "execution_count": 7,
   "metadata": {},
   "outputs": [
    {
     "data": {
      "image/png": "[encoded data removed]",
      "text/plain": [
       "<Figure size 864x576 with 4 Axes>"
      ]
     },
     "metadata": {},
     "output_type": "display_data"
    }
   ],
   "source": [
    "larger_figsize= np.array(mpl.rcParams['figure.figsize']) *2\n",
    "f, axes = plt.subplots(2,2,figsize = larger_figsize,gridspec_kw={'wspace':0,'hspace':0})"
   ]
  },
  {
   "cell_type": "code",
   "execution_count": 8,
   "metadata": {},
   "outputs": [],
   "source": [
    "outputs_dict = {}\n",
    "for concentration_val in ['low', 'high']:\n",
    "    if concentration_val == 'low':\n",
    "        axes_index = 0\n",
    "        NO_frac = 1.04e-12\n",
    "        times = np.linspace(0,0.85,180)\n",
    "    else:\n",
    "        axes_index = 1\n",
    "        NO_frac = 1.04e-4\n",
    "        times = np.linspace(0,1,200)\n",
    "    solution = ctt.create_mechanism(os.path.join(input_path,'merchant-full_w_NO.cti'))\n",
    "\n",
    "    conditions = 650, 1e6, {'O2': 0.21, \"N2\": 0.79,'C3H8':0.21/5,'NO':NO_frac}\n",
    "    solution.TPX = conditions\n",
    "    outputs = ctt.run_simulation(solution=solution,\n",
    "                                 conditions= conditions, \n",
    "                                 times = times,\n",
    "                                 condition_type='adiabatic-constant-volume',\n",
    "                                 output_reactions=True,\n",
    "                       )\n",
    "    outputs_dict[concentration_val] = outputs"
   ]
  },
  {
   "cell_type": "code",
   "execution_count": 10,
   "metadata": {},
   "outputs": [],
   "source": [
    "\n",
    "for concentration_val in ['low', 'high']:\n",
    "    if concentration_val == 'low':\n",
    "        axes_index = 0\n",
    "        NO_frac = 1.04e-12\n",
    "        times = np.linspace(0,0.85,180)\n",
    "    else:\n",
    "        axes_index = 1\n",
    "        NO_frac = 1.04e-4\n",
    "        times = np.linspace(0,1,200)\n",
    "    solution = ctt.create_mechanism(os.path.join(input_path,'merchant-full_w_NO.cti'))\n",
    "    conditions = 650, 1e6, {'O2': 0.21, \"N2\": 0.79,'C3H8':0.21/5,'NO':NO_frac}\n",
    "    solution.TPX = conditions\n",
    "    outputs = outputs_dict[concentration_val]\n",
    "    \n",
    "    conditions = outputs['conditions']\n",
    "    temperatures = conditions['temperature (K)']\n",
    "    pressures = conditions['pressure (Pa)']\n",
    "    densitities_mol_m3_high = conditions['density (kmol/m3)'] * 1000\n",
    "    species = outputs['species'] * 1000\n",
    "    rxns = outputs['net_reactions']\n",
    "    ratio_full_simulation = (species['NO']/(species['NO']+species['NO2']+species['HONO']))\n",
    "    if concentration_val == 'high':\n",
    "        # save NO and temperature profile for plotting on the branching diagram\n",
    "        df = pd.DataFrame(index = temperatures.index)\n",
    "        df['temperature (K)'] = temperatures\n",
    "        df['NO (frac)'] = species['NO'] / densitities_mol_m3_high\n",
    "        df.to_csv(os.path.join('../data/','NO_temp_data_100_ppm.csv'))\n",
    "    # remove data_points after ignition (definted by > 1000K)\n",
    "    indexes_at_ignition = temperatures.index[temperatures > 1000]\n",
    "    ax = axes[0][axes_index]\n",
    "    ratio_full_simulation.drop(indexes_at_ignition).plot(ax=ax,logy=True,color='k')\n",
    "    (1-species['C3H8']/species.loc[0,'C3H8']).drop(indexes_at_ignition).plot(ax=ax,logy=True,linestyle='--', color='k')\n",
    "\n",
    "    secondary_ax = ax.twinx()\n",
    "    temperatures.drop(indexes_at_ignition).plot(ax=secondary_ax, logy=False, linestyle='-.', color='k')\n",
    "    secondary_ax.set_ylim(600, 850)\n",
    "    if concentration_val=='low':\n",
    "        secondary_ax.set_yticks([])\n",
    "        secondary_ax.set_yticklabels([])\n",
    "    else:\n",
    "        secondary_ax.set_ylabel('Temperature (K)')\n",
    "    \n",
    "    npropyl_rxns = [rxn for rxn in rxns.columns if 'npropyloo ' in rxn]\n",
    "    npropyl_rxn_rates = rxns[npropyl_rxns].copy()\n",
    "    # double stoichiometric coefficient\n",
    "    npropyl_rxn_rates.loc[:,u'2 npropyloo <=> O2 + 2 npropyloxy'] *=2\n",
    "    #don't count reverse reactions (forming ROO)\n",
    "    npropyl_rxn_rates[npropyl_rxn_rates < 0] = 0\n",
    "    # still worked despite the warnings\n",
    "    # remove data_points after ignition (definted by > 1000K)\n",
    "    npropyl_rxn_rates.drop(indexes_at_ignition,inplace=True)\n",
    "    # remove data at first time point\n",
    "    npropyl_rxn_rates.drop(npropyl_rxn_rates.index[0],inplace=True)\n",
    "    for general_rxn_str, specific_reactions in generalized_reactions:\n",
    "        general_rxn_rate = pd.Series(index = npropyl_rxn_rates.index, data=np.zeros(len(npropyl_rxn_rates.index)))\n",
    "        for specific_rxn in specific_reactions:\n",
    "            general_rxn_rate += npropyl_rxn_rates[specific_rxn]\n",
    "            del npropyl_rxn_rates[specific_rxn]\n",
    "        npropyl_rxn_rates[general_rxn_str] = general_rxn_rate\n",
    "    # normalize\n",
    "    npropyl_rxn_rates = npropyl_rxn_rates.div(npropyl_rxn_rates.sum(1),0)\n",
    "\n",
    "    npropyl_rxn_rates = npropyl_rxn_rates[[u'NO + npropyloo <=> NO2 + npropyloxy', u'npropyloo <=> QOOH_1',\n",
    "           u'npropyloo <=> C3H6 + HO2', \n",
    "           u'npropyloo + ROO <=> npropyloxy + RO + O2', u'npropyloo + RH <=> npropylooh + R',u'other']]\n",
    "    ax_area_plot = axes[1][axes_index]\n",
    "    npropyl_rxn_rates.plot.area(ax=ax_area_plot, linewidth=0)\n",
    "    ax_area_plot.get_legend().remove()\n",
    "\n",
    "    if concentration_val == 'low':\n",
    "        ax_area_plot.annotate('alkoxy from ROO', (0.27,0.6),rotation=-20)\n",
    "        ax_area_plot.annotate('chain oxidation',(0.15,0.2))\n",
    "        ax_area_plot.annotate('HO$_2$ elimination',(0.49,0.48))\n",
    "        ax_area_plot.annotate('ROOH formation',(0.48,0.83))\n",
    "        ax_area_plot.annotate('other',(0.7,0.94))\n",
    "    else:\n",
    "        ax_area_plot.annotate('alkoxy\\nfrom NO',(0.05,0.45))\n",
    "        ax_area_plot.annotate('alkoxy from ROO',(0.41,0.6),rotation=-25)\n",
    "        ax_area_plot.annotate('chain oxidation',(0.35,0.2))\n",
    "        ax_area_plot.annotate('HO$_2$ elimination',(0.62,0.48))\n",
    "        ax_area_plot.annotate('ROOH formation',(0.58,0.84))\n",
    "        ax_area_plot.annotate('other',(0.8,0.94))\n",
    "\n",
    "    ax_area_plot.set_ylabel('npropylperoxy branching ratio')"
   ]
  },
  {
   "cell_type": "code",
   "execution_count": 11,
   "metadata": {},
   "outputs": [
    {
     "data": {
      "text/plain": [
       "(0.0, 1.0)"
      ]
     },
     "execution_count": 11,
     "metadata": {},
     "output_type": "execute_result"
    }
   ],
   "source": [
    "axis = axes[0][0]\n",
    "axis.set_ylim(1.04e-6,1.1)\n",
    "axis.annotate('NO/NOy',(0.36,3e-6))\n",
    "axis.annotate('fraction propane consumed',(0.180,0.6e-3),rotation=27)\n",
    "axis.annotate('temp.',(0.02,2.5e-5))\n",
    "axis.set_xticks([])\n",
    "axis.set_xticklabels([])\n",
    "axis.set_ylabel('fraction')\n",
    "\n",
    "axis = axes[0][1]\n",
    "axis.set_ylim(1.04e-6,1.1)\n",
    "axis.set_ylabel('')\n",
    "axis.set_yticklabels([])\n",
    "axis.set_yticks([])\n",
    "axis.tick_params(which='minor',left=False)\n",
    "axis.annotate('NO/NOy',(0.53,4e-6))\n",
    "axis.annotate('temperature',(0.15,2.5e-5))\n",
    "axis.annotate('fraction propane consumed',(0.29,0.5e-3),rotation=27)\n",
    "axis.set_xticks([])\n",
    "axis.set_xticklabels([])\n",
    "\n",
    "axis = axes[1][1]\n",
    "axis.set_yticklabels([])\n",
    "axis.set_ylabel('')\n",
    "axis.set_yticks([])\n",
    "axis.set_ylim((0, 1))\n",
    "\n",
    "# set title\n",
    "ax = axes[0][0]\n",
    "ax.set_title('1 ppt NO')\n",
    "ax = axes[0][1]\n",
    "ax.set_title('100 ppm NO')\n",
    "\n",
    "axis = axes[1][0]\n",
    "axis.set_ylim((0, 1))"
   ]
  },
  {
   "cell_type": "code",
   "execution_count": 12,
   "metadata": {},
   "outputs": [],
   "source": [
    "for axes_index_0 in [0, 1]:\n",
    "    for axes_index_1 in [0, 1]:\n",
    "        axes[axes_index_0][axes_index_1].set_xlim(0, 1)\n",
    "        if axes_index_1 == 1:\n",
    "            axes[axes_index_0][axes_index_1].set_xticks([0,0.2,0.4,0.6,0.8,1])\n",
    "        else:\n",
    "            axes[axes_index_0][axes_index_1].set_xticks([0,0.2,0.4,0.6,0.8])"
   ]
  },
  {
   "cell_type": "code",
   "execution_count": 14,
   "metadata": {},
   "outputs": [],
   "source": [
    "f.savefig(os.path.join(image_path,'branching_pathways_propane_combustion.svg'),bbox_inches='tight')\n",
    "f.savefig(os.path.join(image_path,'branching_pathways_propane_combustion.pdf'),bbox_inches='tight')"
   ]
  }
 ],
 "metadata": {
  "kernelspec": {
   "display_name": "Python 3",
   "language": "python",
   "name": "python3"
  },
  "language_info": {
   "codemirror_mode": {
    "name": "ipython",
    "version": 3
   },
   "file_extension": ".py",
   "mimetype": "text/x-python",
   "name": "python",
   "nbconvert_exporter": "python",
   "pygments_lexer": "ipython3",
   "version": "3.7.7"
  },
  "toc": {
   "colors": {
    "hover_highlight": "#DAA520",
    "running_highlight": "#FF0000",
    "selected_highlight": "#FFD700"
   },
   "moveMenuLeft": true,
   "nav_menu": {
    "height": "332px",
    "width": "254px"
   },
   "navigate_menu": true,
   "number_sections": true,
   "sideBar": true,
   "threshold": 4,
   "toc_cell": true,
   "toc_position": {
    "height": "723px",
    "left": "0px",
    "right": "1132px",
    "top": "43px",
    "width": "212px"
   },
   "toc_section_display": "block",
   "toc_window_display": false
  }
 },
 "nbformat": 4,
 "nbformat_minor": 4
}
